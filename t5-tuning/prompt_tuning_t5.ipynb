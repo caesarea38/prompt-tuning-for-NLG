{
 "cells": [
  {
   "cell_type": "markdown",
   "source": [
    "## Installing the required packages"
   ],
   "metadata": {
    "collapsed": false,
    "id": "OIoYkDMph0qI"
   }
  },
  {
   "cell_type": "code",
   "execution_count": null,
   "metadata": {
    "collapsed": true,
    "id": "uemA2s_7h0qO"
   },
   "outputs": [],
   "source": [
    "!pip install transformers --quiet\n",
    "!pip install sentencepiece --quiet"
   ]
  },
  {
   "cell_type": "markdown",
   "source": [
    "## Importing required libraries"
   ],
   "metadata": {
    "collapsed": false,
    "id": "qtPNBfoDh0qQ"
   }
  },
  {
   "cell_type": "code",
   "execution_count": 1,
   "outputs": [],
   "source": [
    "import os\n",
    "import warnings\n",
    "import torch\n",
    "import torch.nn as nn\n",
    "import pandas as pd\n",
    "import matplotlib.pyplot as plt\n",
    "\n",
    "from itertools import chain\n",
    "from transformers import T5Tokenizer, T5ForConditionalGeneration, get_scheduler\n",
    "from transformers.optimization import Adafactor, AdamW\n",
    "from IPython.display import HTML, display"
   ],
   "metadata": {
    "pycharm": {
     "name": "#%%\n"
    },
    "id": "2gK6uqcrh0qQ"
   }
  },
  {
   "cell_type": "code",
   "execution_count": 3,
   "outputs": [
    {
     "output_type": "stream",
     "name": "stdout",
     "text": [
      "Mounted at /content/drive\n"
     ]
    }
   ],
   "source": [
    "# Use this when working on Google Colab\n",
    "from google.colab import drive\n",
    "drive.mount('/content/drive')"
   ],
   "metadata": {
    "pycharm": {
     "name": "#%%\n"
    },
    "colab": {
     "base_uri": "https://localhost:8080/"
    },
    "id": "w9e6cPibh0qR",
    "outputId": "8086dd73-3028-41f9-e7ed-c0d8dc0d34a0"
   }
  },
  {
   "cell_type": "markdown",
   "source": [
    "## Define the Class for Prompt Tuning"
   ],
   "metadata": {
    "id": "BNixl_L6qRAJ"
   }
  },
  {
   "cell_type": "code",
   "source": [
    "class T5PromptTuning(T5ForConditionalGeneration):\n",
    "    def __init__(self, config):\n",
    "          super().__init__(config)\n",
    "\n",
    "    @classmethod\n",
    "    def from_pretrained(cls, model_name_or_path: str, soft_prompt_path: str = None, number_tokens: int = None,\n",
    "        initialize_from_vocab: bool = True, random_range: float = 0.5, **kwargs):\n",
    "      \n",
    "        model = super().from_pretrained(model_name_or_path, **kwargs)\n",
    "  \n",
    "        #  freeze the transformers model\n",
    "        for param in model.parameters():\n",
    "            param.requires_grad = False\n",
    "\n",
    "        # if a saved soft prompt is loaded, use its embeddings\n",
    "        if soft_prompt_path is not None:\n",
    "            model.set_soft_prompt_embeds(soft_prompt_path)\n",
    "\n",
    "        # else create a new soft prompt\n",
    "        elif number_tokens is not None:\n",
    "            print(\"Initializing soft prompt...\")\n",
    "            model.initialize_soft_prompt(\n",
    "                number_tokens=number_tokens, initialize_from_vocab=initialize_from_vocab, random_range=random_range)\n",
    "        return model\n",
    "\n",
    "    def set_soft_prompt_embeds(self, soft_prompt_path: str):\n",
    "        self.soft_prompt = torch.load(\n",
    "            soft_prompt_path, map_location=torch.device(\"cpu\")\n",
    "        )\n",
    "        self.number_tokens = self.soft_prompt.num_embeddings\n",
    "        print(f\"Set soft prompt. (number_tokens: {self.number_tokens})\")\n",
    "\n",
    "    def initialize_soft_prompt(self, number_tokens: int = 20, initialize_from_vocab: bool = True, random_range: float = 0.5):\n",
    "        self.number_tokens = number_tokens\n",
    "        init_prompt_value = None\n",
    "        if initialize_from_vocab:\n",
    "            init_prompt_value = self.shared.weight[:number_tokens].clone().detach()\n",
    "        else:\n",
    "            init_prompt_value = torch.FloatTensor(number_tokens, self.config.d_model).uniform_(-random_range, random_range)\n",
    "        self.soft_prompt = torch.nn.Embedding(number_tokens, self.config.d_model)\n",
    "\n",
    "        # Initialize weight\n",
    "        self.soft_prompt.weight = torch.nn.parameter.Parameter(init_prompt_value)\n",
    "        #print(self.soft_prompt.weight.shape)\n",
    "\n",
    "    # this method appends the learned prompt embeddings to the input ids of the input before the\n",
    "    # the forward pass is calculated\n",
    "    def append_learned_embedding_to_input(self, input_ids):\n",
    "        inputs_embeds = self.shared(input_ids)\n",
    "        #print(inputs_embeds.shape)\n",
    "        if len(list(inputs_embeds.shape)) == 2: inputs_embeds = inputs_embeds.unsqueeze(0)\n",
    "\n",
    "        # the shape of the tensor that will be returned will be: [batch_size, max_sequence_length, number_embeddings] -> [8, 600, 512]\n",
    "        learned_embeds = self.soft_prompt.weight.repeat(inputs_embeds.size(0), 1, 1)\n",
    "\n",
    "        print('shape learned embeds: ' + str(learned_embeds.shape))\n",
    "\n",
    "        inputs_embeds = torch.cat([learned_embeds, inputs_embeds], dim=1)\n",
    "\n",
    "        #print('shape inputs embeds: ' + str(inputs_embeds.shape))\n",
    "        return inputs_embeds\n",
    "\n",
    "    # to make sure that padding token ids of the labels are not taken into account by the loss function\n",
    "    # this method extends the labels tensor by elements that are ignored by the CrossEntropyLoss function\n",
    "    # this can be done using the ignore_index value -100\n",
    "    def extend_labels(self, labels, ignore_index=-100):\n",
    "        if len(list(labels.shape)) == 1: labels = labels.unsqueeze(0)\n",
    "        number_of_batches = labels.shape[0]\n",
    "\n",
    "        #print('number batches: ' + str(n_batches))\n",
    "\n",
    "        # return a new tensor of shape [number_of_batches, number_tokens+labels] that is filled with the ignore_index value (-100)\n",
    "        return torch.cat([torch.full((number_of_batches, self.number_tokens), ignore_index).to(self.device), labels], dim=1)\n",
    "\n",
    "    def extend_attention_mask(self, attention_mask):\n",
    "        # prepend a new dimension (1) to the shape of attention_mask in case it is one dimensional\n",
    "        if len(list(attention_mask.shape)) == 1: attention_mask = attention_mask.unsqueeze(0)\n",
    "\n",
    "        # get the number of batches\n",
    "        number_of_batches = attention_mask.shape[0]\n",
    "\n",
    "        # return a new tensor of shape [number_of_batches, number_tokens+attention_mask] that is filled with the ones\n",
    "        return torch.cat([torch.full((number_of_batches, self.number_tokens), 1).to(self.device), attention_mask], dim=1)\n",
    "\n",
    "    def save_soft_prompt(self, filename: str = \"soft_prompt.model\"):\n",
    "        torch.save(self.soft_prompt, 't5-tuning/soft_prompts/'+ filename)\n",
    "\n",
    "    def forward(\n",
    "        self, input_ids=None,       past_key_values=None, attention_mask=None, token_type_ids=None,\n",
    "        position_ids=None,          head_mask=None,       inputs_embeds=None,  encoder_hidden_states=None,\n",
    "        encoder_attention_mask=None,labels=None,          use_cache=None,      output_attentions=None,\n",
    "        output_hidden_states=None,  return_dict=None):\n",
    "      \n",
    "        if input_ids is not None:\n",
    "            print('test1')\n",
    "            inputs_embeds = self.append_learned_embedding_to_input(input_ids).to(self.device)\n",
    "\n",
    "        if labels is not None:\n",
    "            print('test2')\n",
    "            labels = self.extend_labels(labels).to(self.device)\n",
    "\n",
    "        if attention_mask is not None:\n",
    "            print('test')\n",
    "            attention_mask = self.extend_attention_mask(attention_mask).to(self.device)\n",
    "\n",
    "        print(inputs_embeds)\n",
    "        return super().forward(\n",
    "            #input_ids=input_ids,\n",
    "            #attention_mask=attention_mask,\n",
    "            #inputs_embeds=inputs_embeds,\n",
    "            #labels=labels,\n",
    "            use_cache=use_cache,\n",
    "            return_dict=return_dict,\n",
    "        )\n",
    "# This class acts as wrapper class of the T5ForConditionalGeneration class to create and initialize a soft prompt.\n",
    "# Additionally, it preprocesses the input ids and labels if the forward() method of the model is called and then calls super.forward()\n",
    "# to actually perform the forward propagation\n",
    "#class T5PromptTuningLM(T5PromptTuning, T5ForConditionalGeneration):\n",
    "#    def __init__(self, config):\n",
    "#        super().__init__(config)"
   ],
   "metadata": {
    "id": "YU0rg9NRxbkm"
   },
   "execution_count": 2,
   "outputs": []
  },
  {
   "cell_type": "markdown",
   "source": [
    "## Load the Pre-trained model T5 and the tokenizer"
   ],
   "metadata": {
    "collapsed": false,
    "id": "MxsDKQlsh0qR"
   }
  },
  {
   "cell_type": "code",
   "execution_count": 7,
   "outputs": [
    {
     "name": "stderr",
     "output_type": "stream",
     "text": [
      "Traceback (most recent call last):\n",
      "  File \"/Applications/PyCharm.app/Contents/plugins/python/helpers-pro/jupyter_debug/pydev_jupyter_utils.py\", line 69, in attach_to_debugger\n",
      "    debugger.prepare_to_run(enable_tracing_from_start=False)\n",
      "TypeError: prepare_to_run() got an unexpected keyword argument 'enable_tracing_from_start'\n",
      "Failed to connect to target debugger.\n"
     ]
    },
    {
     "name": "stdout",
     "output_type": "stream",
     "text": [
      "Running on the CPU\n",
      "Initializing soft prompt...\n"
     ]
    },
    {
     "ename": "TypeError",
     "evalue": "forward() got an unexpected keyword argument 'decoder_input_ids'",
     "output_type": "error",
     "traceback": [
      "\u001B[0;31m---------------------------------------------------------------------------\u001B[0m",
      "\u001B[0;31mTypeError\u001B[0m                                 Traceback (most recent call last)",
      "\u001B[0;32m/var/folders/sk/1xydrhpj73l4lx9zhtg12mmc0000gn/T/ipykernel_9742/3760849365.py\u001B[0m in \u001B[0;36m<module>\u001B[0;34m\u001B[0m\n\u001B[1;32m     67\u001B[0m \u001B[0;34m\u001B[0m\u001B[0m\n\u001B[1;32m     68\u001B[0m \u001B[0mmodel_t5_small\u001B[0m\u001B[0;34m.\u001B[0m\u001B[0mtrain\u001B[0m\u001B[0;34m(\u001B[0m\u001B[0;34m)\u001B[0m\u001B[0;34m\u001B[0m\u001B[0;34m\u001B[0m\u001B[0m\n\u001B[0;32m---> 69\u001B[0;31m outputs = model_t5_small.generate(input_ids=inputs['input_ids'],\n\u001B[0m\u001B[1;32m     70\u001B[0m                                   attention_mask=inputs['attention_mask'])\n\u001B[1;32m     71\u001B[0m \u001B[0mloss\u001B[0m \u001B[0;34m=\u001B[0m \u001B[0moutputs\u001B[0m\u001B[0;34m.\u001B[0m\u001B[0mloss\u001B[0m\u001B[0;34m\u001B[0m\u001B[0;34m\u001B[0m\u001B[0m\n",
      "\u001B[0;32m~/miniconda3/envs/prompt-tuning-for-NLG/lib/python3.8/site-packages/torch/autograd/grad_mode.py\u001B[0m in \u001B[0;36mdecorate_context\u001B[0;34m(*args, **kwargs)\u001B[0m\n\u001B[1;32m     24\u001B[0m         \u001B[0;32mdef\u001B[0m \u001B[0mdecorate_context\u001B[0m\u001B[0;34m(\u001B[0m\u001B[0;34m*\u001B[0m\u001B[0margs\u001B[0m\u001B[0;34m,\u001B[0m \u001B[0;34m**\u001B[0m\u001B[0mkwargs\u001B[0m\u001B[0;34m)\u001B[0m\u001B[0;34m:\u001B[0m\u001B[0;34m\u001B[0m\u001B[0;34m\u001B[0m\u001B[0m\n\u001B[1;32m     25\u001B[0m             \u001B[0;32mwith\u001B[0m \u001B[0mself\u001B[0m\u001B[0;34m.\u001B[0m\u001B[0m__class__\u001B[0m\u001B[0;34m(\u001B[0m\u001B[0;34m)\u001B[0m\u001B[0;34m:\u001B[0m\u001B[0;34m\u001B[0m\u001B[0;34m\u001B[0m\u001B[0m\n\u001B[0;32m---> 26\u001B[0;31m                 \u001B[0;32mreturn\u001B[0m \u001B[0mfunc\u001B[0m\u001B[0;34m(\u001B[0m\u001B[0;34m*\u001B[0m\u001B[0margs\u001B[0m\u001B[0;34m,\u001B[0m \u001B[0;34m**\u001B[0m\u001B[0mkwargs\u001B[0m\u001B[0;34m)\u001B[0m\u001B[0;34m\u001B[0m\u001B[0;34m\u001B[0m\u001B[0m\n\u001B[0m\u001B[1;32m     27\u001B[0m         \u001B[0;32mreturn\u001B[0m \u001B[0mcast\u001B[0m\u001B[0;34m(\u001B[0m\u001B[0mF\u001B[0m\u001B[0;34m,\u001B[0m \u001B[0mdecorate_context\u001B[0m\u001B[0;34m)\u001B[0m\u001B[0;34m\u001B[0m\u001B[0;34m\u001B[0m\u001B[0m\n\u001B[1;32m     28\u001B[0m \u001B[0;34m\u001B[0m\u001B[0m\n",
      "\u001B[0;32m~/miniconda3/envs/prompt-tuning-for-NLG/lib/python3.8/site-packages/transformers/generation_utils.py\u001B[0m in \u001B[0;36mgenerate\u001B[0;34m(self, input_ids, max_length, min_length, do_sample, early_stopping, num_beams, temperature, top_k, top_p, repetition_penalty, bad_words_ids, bos_token_id, pad_token_id, eos_token_id, length_penalty, no_repeat_ngram_size, encoder_no_repeat_ngram_size, num_return_sequences, max_time, max_new_tokens, decoder_start_token_id, use_cache, num_beam_groups, diversity_penalty, prefix_allowed_tokens_fn, output_attentions, output_hidden_states, output_scores, return_dict_in_generate, forced_bos_token_id, forced_eos_token_id, remove_invalid_values, synced_gpus, **model_kwargs)\u001B[0m\n\u001B[1;32m    988\u001B[0m \u001B[0;34m\u001B[0m\u001B[0m\n\u001B[1;32m    989\u001B[0m             \u001B[0;31m# greedy search\u001B[0m\u001B[0;34m\u001B[0m\u001B[0;34m\u001B[0m\u001B[0;34m\u001B[0m\u001B[0m\n\u001B[0;32m--> 990\u001B[0;31m             return self.greedy_search(\n\u001B[0m\u001B[1;32m    991\u001B[0m                 \u001B[0minput_ids\u001B[0m\u001B[0;34m,\u001B[0m\u001B[0;34m\u001B[0m\u001B[0;34m\u001B[0m\u001B[0m\n\u001B[1;32m    992\u001B[0m                 \u001B[0mlogits_processor\u001B[0m\u001B[0;34m=\u001B[0m\u001B[0mlogits_processor\u001B[0m\u001B[0;34m,\u001B[0m\u001B[0;34m\u001B[0m\u001B[0;34m\u001B[0m\u001B[0m\n",
      "\u001B[0;32m~/miniconda3/envs/prompt-tuning-for-NLG/lib/python3.8/site-packages/transformers/generation_utils.py\u001B[0m in \u001B[0;36mgreedy_search\u001B[0;34m(self, input_ids, logits_processor, stopping_criteria, max_length, pad_token_id, eos_token_id, output_attentions, output_hidden_states, output_scores, return_dict_in_generate, synced_gpus, **model_kwargs)\u001B[0m\n\u001B[1;32m   1290\u001B[0m \u001B[0;34m\u001B[0m\u001B[0m\n\u001B[1;32m   1291\u001B[0m             \u001B[0;31m# forward pass to get next token\u001B[0m\u001B[0;34m\u001B[0m\u001B[0;34m\u001B[0m\u001B[0;34m\u001B[0m\u001B[0m\n\u001B[0;32m-> 1292\u001B[0;31m             outputs = self(\n\u001B[0m\u001B[1;32m   1293\u001B[0m                 \u001B[0;34m**\u001B[0m\u001B[0mmodel_inputs\u001B[0m\u001B[0;34m,\u001B[0m\u001B[0;34m\u001B[0m\u001B[0;34m\u001B[0m\u001B[0m\n\u001B[1;32m   1294\u001B[0m                 \u001B[0mreturn_dict\u001B[0m\u001B[0;34m=\u001B[0m\u001B[0;32mTrue\u001B[0m\u001B[0;34m,\u001B[0m\u001B[0;34m\u001B[0m\u001B[0;34m\u001B[0m\u001B[0m\n",
      "\u001B[0;32m~/miniconda3/envs/prompt-tuning-for-NLG/lib/python3.8/site-packages/torch/nn/modules/module.py\u001B[0m in \u001B[0;36m_call_impl\u001B[0;34m(self, *input, **kwargs)\u001B[0m\n\u001B[1;32m    725\u001B[0m             \u001B[0mresult\u001B[0m \u001B[0;34m=\u001B[0m \u001B[0mself\u001B[0m\u001B[0;34m.\u001B[0m\u001B[0m_slow_forward\u001B[0m\u001B[0;34m(\u001B[0m\u001B[0;34m*\u001B[0m\u001B[0minput\u001B[0m\u001B[0;34m,\u001B[0m \u001B[0;34m**\u001B[0m\u001B[0mkwargs\u001B[0m\u001B[0;34m)\u001B[0m\u001B[0;34m\u001B[0m\u001B[0;34m\u001B[0m\u001B[0m\n\u001B[1;32m    726\u001B[0m         \u001B[0;32melse\u001B[0m\u001B[0;34m:\u001B[0m\u001B[0;34m\u001B[0m\u001B[0;34m\u001B[0m\u001B[0m\n\u001B[0;32m--> 727\u001B[0;31m             \u001B[0mresult\u001B[0m \u001B[0;34m=\u001B[0m \u001B[0mself\u001B[0m\u001B[0;34m.\u001B[0m\u001B[0mforward\u001B[0m\u001B[0;34m(\u001B[0m\u001B[0;34m*\u001B[0m\u001B[0minput\u001B[0m\u001B[0;34m,\u001B[0m \u001B[0;34m**\u001B[0m\u001B[0mkwargs\u001B[0m\u001B[0;34m)\u001B[0m\u001B[0;34m\u001B[0m\u001B[0;34m\u001B[0m\u001B[0m\n\u001B[0m\u001B[1;32m    728\u001B[0m         for hook in itertools.chain(\n\u001B[1;32m    729\u001B[0m                 \u001B[0m_global_forward_hooks\u001B[0m\u001B[0;34m.\u001B[0m\u001B[0mvalues\u001B[0m\u001B[0;34m(\u001B[0m\u001B[0;34m)\u001B[0m\u001B[0;34m,\u001B[0m\u001B[0;34m\u001B[0m\u001B[0;34m\u001B[0m\u001B[0m\n",
      "\u001B[0;31mTypeError\u001B[0m: forward() got an unexpected keyword argument 'decoder_input_ids'"
     ]
    }
   ],
   "source": [
    "import torch as nn\n",
    "# Check GPU availability\n",
    "if torch.cuda.is_available():\n",
    "    dev = torch.device(\"cuda:0\")\n",
    "    print(\"Running on the GPU\")\n",
    "else:\n",
    "    dev = torch.device(\"cpu\")\n",
    "    print(\"Running on the CPU\")\n",
    "\n",
    "#print(torch.cuda.get_device_name(0))\n",
    "\n",
    "# Prompt-tuning\n",
    "# number of prompt tokens\n",
    "number_prompt_tokens = 20\n",
    "\n",
    "# If set to true, the soft prompt will be initialized from the models vocabulary\n",
    "# Otherwise, it will be randomly (uniformly in a range) initialized.\n",
    "random_range = 0.5\n",
    "init_from_vocab = False\n",
    "\n",
    "\n",
    "tokenizer_t5_small = T5Tokenizer.from_pretrained('t5-small')\n",
    "\n",
    "# Instantiate one T5 small model that should be trained on all the 3 datasets\n",
    "model_t5_small = T5PromptTuning.from_pretrained('t5-small', number_tokens=number_prompt_tokens, initialize_from_vocab=init_from_vocab)\n",
    "\n",
    "#moving the models to device(GPU/CPU)\n",
    "model_t5_small.to(dev)\n",
    "\n",
    "class Config:\n",
    "    # Same default parameters as run_clm_no_trainer.py in tranformers\n",
    "    # https://github.com/huggingface/transformers/blob/master/examples/pytorch/language-modeling/run_clm_no_trainer.py\n",
    "    num_train_epochs = 3\n",
    "    weight_decay = 0.01\n",
    "    learning_rate = 0.01\n",
    "    lr_scheduler_type = \"linear\"\n",
    "    num_warmup_steps = 0\n",
    "    max_train_steps = num_train_epochs\n",
    "    \n",
    "    # Prompt-tuning\n",
    "    # number of prompt tokens\n",
    "    n_prompt_tokens = 20\n",
    "    # If True, soft prompt will be initialized from vocab \n",
    "    # Otherwise, you can set `random_range` to initialize by randomization.\n",
    "    init_from_vocab = False\n",
    "    # random_range = 0.5\n",
    "args = Config()\n",
    "\n",
    "# Prepare dataset\n",
    "inputs = tokenizer_t5_small(\"Hello, my dog is cute\", return_tensors=\"pt\").to(dev)\n",
    "\n",
    "# Only update soft prompt'weights for prompt-tuning. ie, all weights in LM are set as `require_grad=False`. \n",
    "optimizer_grouped_parameters = [\n",
    "    {\n",
    "        \"params\": [p for n, p in model_t5_small.named_parameters() if n == \"soft_prompt.weight\"],\n",
    "        \"weight_decay\": args.weight_decay,\n",
    "    }\n",
    "]\n",
    "optimizer = AdamW(optimizer_grouped_parameters, lr=args.learning_rate)\n",
    "lr_scheduler = get_scheduler(\n",
    "    name=args.lr_scheduler_type,\n",
    "    optimizer=optimizer,\n",
    "    num_warmup_steps=args.num_warmup_steps,\n",
    "    num_training_steps=args.max_train_steps,\n",
    ")\n",
    "\n",
    "model_t5_small.train()\n",
    "outputs = model_t5_small.generate(input_ids=inputs['input_ids'],\n",
    "                                  attention_mask=inputs['attention_mask'])\n",
    "loss = outputs.loss\n",
    "print(f\"loss: {loss}\")\n"
   ],
   "metadata": {
    "pycharm": {
     "name": "#%%\n"
    },
    "id": "KyZrfrkoh0qS",
    "colab": {
     "base_uri": "https://localhost:8080/",
     "height": 443
    },
    "outputId": "867403d2-4e99-42c9-86c5-0d90b9dbb6a2"
   }
  },
  {
   "cell_type": "markdown",
   "source": [
    "## Preprocessing"
   ],
   "metadata": {
    "collapsed": false,
    "id": "YA92MUkIh0qU"
   }
  },
  {
   "cell_type": "code",
   "execution_count": 60,
   "outputs": [],
   "source": [
    "load_no_duplicate_sets = True\n",
    "\n",
    "# Load the datasets for the Web NLG 2020 challenge\n",
    "train_data_web_nlg = pd.read_csv('drive/MyDrive/MIwDL/data/web_nlg/train/webNLG2020_train.csv' if not load_no_duplicate_sets else 'drive/MyDrive/MIwDL/data/web_nlg/train/webNLG2020_train_no_duplicate_inputs.csv')\n",
    "test_data_web_nlg = pd.read_csv('drive/MyDrive/MIwDL/data/web_nlg/test/webNLG2020_test.csv' if not load_no_duplicate_sets else 'drive/MyDrive/MIwDL/data/web_nlg/test/webNLG2020_test_no_duplicate_inputs.csv')\n",
    "\n",
    "# Load the datasets for the Meaning Representation E2E challenge\n",
    "train_data_e2e = pd.read_csv('drive/MyDrive/MIwDL/data/e2e/train/trainset.csv' if not load_no_duplicate_sets else 'drive/MyDrive/MIwDL/data/e2e/train/trainset_no_duplicate_inputs.csv')\n",
    "test_data_e2e = pd.read_csv('drive/MyDrive/MIwDL/data/e2e/test/testset_w_refs.csv' if not load_no_duplicate_sets else 'drive/MyDrive/MIwDL/data/e2e/test/testset_no_duplicate_inputs.csv')\n",
    "\n",
    "# Load the datasets for the Abstract Meaning Representation AMR challenge\n",
    "train_data_amr = pd.read_csv('drive/MyDrive/MIwDL/data/amr/abstract_meaning_representation_train.csv' if not load_no_duplicate_sets else 'drive/MyDrive/MIwDL/data/amr/train/amr_train_no_duplicate_inputs.csv')\n",
    "test_data_amr = pd.read_csv('drive/MyDrive/MIwDL/data/amr/abstract_meaning_representation_test.csv' if not load_no_duplicate_sets else 'drive/MyDrive/MIwDL/data/amr/test/amr_test_no_duplicate_inputs.csv')\n",
    "\n",
    "# Load the datasets for the Web NLG 2020 challenge\n",
    "#train_data_web_nlg = pd.read_csv('data/web_nlg/train/webNLG2020_train.csv' if not load_no_duplicate_sets else 'data/web_nlg/train/webNLG2020_train_no_duplicate_inputs.csv')\n",
    "#test_data_web_nlg = pd.read_csv('data/web_nlg/test/webNLG2020_test.csv' if not load_no_duplicate_sets else 'data/web_nlg/test/webNLG2020_test_no_duplicate_inputs.csv')\n",
    "\n",
    "# Load the datasets for the Meaning Representation E2E challenge\n",
    "#train_data_e2e = pd.read_csv('data/e2e/train/trainset.csv' if not load_no_duplicate_sets else 'data/e2e/train/trainset_no_duplicate_inputs.csv' )\n",
    "#test_data_e2e = pd.read_csv('data/e2e/test/testset_w_refs.csv' if not load_no_duplicate_sets else 'data/e2e/test/testset_no_duplicate_inputs.csv')\n",
    "\n",
    "# Load the datasets for the Abstract Meaning Representation AMR challenge\n",
    "#train_data_amr = pd.read_csv('data/amr/train/abstract_meaning_representation_train.csv' if not load_no_duplicate_sets else 'data/amr/train/amr_train_no_duplicate_inputs.csv')\n",
    "#test_data_amr = pd.read_csv('data/amr/test/abstract_meaning_representation_test.csv' if not load_no_duplicate_sets else 'data/amr/test/amr_test_no_duplicate_inputs.csv')False)"
   ],
   "metadata": {
    "pycharm": {
     "name": "#%%\n"
    },
    "id": "qRBcOeOFh0qU"
   }
  },
  {
   "cell_type": "code",
   "source": [
    "# sort the values by ascending order\n",
    "test_data_web_nlg = test_data_web_nlg.sort_values(by='input_text', ignore_index=True)\n",
    "train_data_web_nlg = train_data_web_nlg.sort_values(by='input_text', ignore_index=True)\n",
    "\n",
    "test_data_e2e = test_data_e2e.sort_values(by='input_text', ignore_index=True)\n",
    "train_data_e2e = train_data_e2e.sort_values(by='input_text', ignore_index=True)\n",
    "\n",
    "train_data_amr = train_data_amr.sort_values(by='input_text', ignore_index=True)\n",
    "test_data_amr = test_data_amr.sort_values(by='input_text', ignore_index=True)\n",
    "\n",
    "# Trimming off the last few datapoints from Web NLG so hat a batch would not leave any remainder.\n",
    "train_data_web_nlg = train_data_web_nlg.iloc[:35200,:] if not load_no_duplicate_sets else train_data_web_nlg.iloc[:len(train_data_web_nlg)-3,:]\n",
    "test_data_web_nlg = test_data_web_nlg.iloc[:1720,:] if not load_no_duplicate_sets else test_data_web_nlg.iloc[:len(test_data_web_nlg)-7,:]\n",
    "\n",
    "# Trimming off the last few datapoints from E2E so that a batch would not leave any remainder.\n",
    "train_data_e2e = train_data_e2e.iloc[:len(train_data_e2e)-1,:] if not load_no_duplicate_sets else train_data_e2e.iloc[:len(train_data_e2e)-6,:]\n",
    "test_data_e2e = test_data_e2e.iloc[:len(test_data_e2e)-5,:] if not load_no_duplicate_sets else test_data_e2e.iloc[:len(test_data_e2e)-6,:]\n",
    "\n",
    "# Trimming off the last few datapoints from AMR so that a batch would not leave any remainder.\n",
    "train_data_amr = train_data_amr.iloc[:len(train_data_amr)-4,:] if not load_no_duplicate_sets else train_data_amr.iloc[:len(train_data_amr)-6,:]\n",
    "test_data_amr = test_data_amr.iloc[:len(test_data_amr)-6,:] if not load_no_duplicate_sets else test_data_amr.iloc[:len(test_data_amr)-3,:]"
   ],
   "metadata": {
    "id": "FrFGcPdzY6X2"
   },
   "execution_count": 61,
   "outputs": []
  },
  {
   "cell_type": "code",
   "execution_count": 62,
   "outputs": [
    {
     "output_type": "stream",
     "name": "stdout",
     "text": [
      "--- Number of train batches Web NLG: 1640 --- \n",
      "--- Number of test  batches Web NLG: 74  --- \n",
      "\n",
      "--- Number of train batches E2E : 607 --- \n",
      "--- Number of test  batches E2E : 78  --- \n",
      "\n",
      "--- Number of train batches AMR : 168 --- \n",
      "--- Number of test  batches AMR : 18  --- \n"
     ]
    }
   ],
   "source": [
    "# Set the batch size and the number of training epochs\n",
    "batch_size_web_nlg = 8\n",
    "batch_size_e2e = 8\n",
    "batch_size_amr = 8\n",
    "\n",
    "number_of_batches_train_web_nlg = int(len(train_data_web_nlg)/batch_size_web_nlg)\n",
    "number_of_batches_test_web_nlg = int(len(test_data_web_nlg)/batch_size_web_nlg)\n",
    "\n",
    "number_of_batches_train_e2e = int(len(train_data_e2e)/batch_size_e2e)\n",
    "number_of_batches_test_e2e = int(len(test_data_e2e)/batch_size_e2e)\n",
    "\n",
    "number_of_batches_train_amr = int(len(train_data_amr)/batch_size_amr)\n",
    "number_of_batches_test_amr = int(len(test_data_amr)/batch_size_amr)\n",
    "\n",
    "print('--- Number of train batches Web NLG: ' + str(number_of_batches_train_web_nlg) + ' --- ')\n",
    "print('--- Number of test  batches Web NLG: ' + str(number_of_batches_test_web_nlg) + '  --- \\n')\n",
    "\n",
    "print('--- Number of train batches E2E : ' + str(number_of_batches_train_e2e) + ' --- ')\n",
    "print('--- Number of test  batches E2E : ' + str(number_of_batches_test_e2e) + '  --- \\n')\n",
    "\n",
    "print('--- Number of train batches AMR : ' + str(number_of_batches_train_amr) + ' --- ')\n",
    "print('--- Number of test  batches AMR : ' + str(number_of_batches_test_amr) + '  --- ')"
   ],
   "metadata": {
    "pycharm": {
     "name": "#%%\n"
    },
    "id": "RMhX5cjnh0qW",
    "colab": {
     "base_uri": "https://localhost:8080/"
    },
    "outputId": "4ef33540-5277-441a-b324-ad99e34429d6"
   }
  },
  {
   "cell_type": "code",
   "execution_count": 63,
   "outputs": [],
   "source": [
    "def create_list_of_batches(batch_size, num_batches, data, tokenizer):\n",
    "# Create List of batches for inputs and labels\n",
    "    inputs = []\n",
    "    labels = []\n",
    "    for i in range(num_batches):\n",
    "        input_batch=[]\n",
    "        label_batch=[]\n",
    "        for index,row in data[i*batch_size:i*batch_size+batch_size].iterrows():\n",
    "#          input_batch.append('translate from Graph to Text: '+row['input_text']+'</s>')\n",
    "#          label_batch.append(row['target_text']+'</s>')\n",
    "\n",
    "          input_batch.append('translate from Graph to Text: '+row['input_text'])\n",
    "          label_batch.append(row['target_text'])\n",
    "\n",
    "        input_batch=tokenizer.batch_encode_plus(input_batch,max_length=600,padding='max_length', return_tensors='pt')[\"input_ids\"]\n",
    "        label_batch=tokenizer.batch_encode_plus(label_batch,max_length=600,padding='max_length',return_tensors='pt')[\"input_ids\"]\n",
    "\n",
    "        input_batch=input_batch.to(dev)\n",
    "        label_batch=label_batch.to(dev)\n",
    "\n",
    "        inputs.append(input_batch)\n",
    "        labels.append(label_batch)\n",
    "    return inputs, labels\n",
    "\n",
    "\"\"\"inputs_train_web_nlg, \\\n",
    "labels_train_web_nlg = create_list_of_batches(batch_size=batch_size_web_nlg,\n",
    "                                              num_batches=number_of_batches_train_web_nlg,\n",
    "                                              data=train_data_web_nlg,\n",
    "                                              tokenizer=tokenizer_t5_small)\n",
    "inputs_test_web_nlg, \\\n",
    "labels_test_web_nlg = create_list_of_batches(batch_size=batch_size_web_nlg,\n",
    "                                              num_batches=number_of_batches_test_web_nlg,\n",
    "                                              data=test_data_web_nlg,\n",
    "                                              tokenizer=tokenizer_t5_small)\n",
    "inputs_train_e2e, \\\n",
    "labels_train_e2e = create_list_of_batches(batch_size=batch_size_e2e,\n",
    "                                              num_batches=number_of_batches_train_e2e,\n",
    "                                              data=train_data_e2e,\n",
    "                                              tokenizer=tokenizer_t5_small)\n",
    "inputs_test_e2e, \\\n",
    "labels_test_e2e = create_list_of_batches(batch_size=batch_size_e2e,\n",
    "                                              num_batches=number_of_batches_test_e2e,\n",
    "                                              data=test_data_e2e,\n",
    "                                              tokenizer=tokenizer_t5_small)\"\"\"\n",
    "inputs_train_amr, \\\n",
    "labels_train_amr = create_list_of_batches(batch_size=batch_size_amr,\n",
    "                                              num_batches=number_of_batches_train_amr,\n",
    "                                              data=train_data_amr,\n",
    "                                              tokenizer=tokenizer_t5_small)\n",
    "inputs_test_amr, \\\n",
    "labels_test_amr = create_list_of_batches(batch_size=batch_size_amr,\n",
    "                                              num_batches=number_of_batches_test_amr,\n",
    "                                              data=test_data_amr,\n",
    "                                              tokenizer=tokenizer_t5_small)"
   ],
   "metadata": {
    "pycharm": {
     "name": "#%%\n"
    },
    "id": "sxy2hYEYh0qX"
   }
  },
  {
   "cell_type": "markdown",
   "source": [
    "\n",
    "\n",
    "## Set the Optimizer with Parameter values suggested for T5"
   ],
   "metadata": {
    "collapsed": false,
    "id": "j4u8a5oqh0qY"
   }
  },
  {
   "cell_type": "code",
   "execution_count": 64,
   "outputs": [],
   "source": [
    "def optimizer_adafactor(model, \n",
    "              lr=1e-3,              # default values for adafactor\n",
    "              eps=(1e-30, 1e-3),    # default values for adafactor\n",
    "              clip_threshold=1.0,   # default values for adafactor \n",
    "              decay_rate=-0.8,      # default values for adafactor\n",
    "              beta1=None,           # default values for adafactor \n",
    "              weight_decay=0.0,     # default values for adafactor \n",
    "              relative_step=False,   \n",
    "              scale_parameter=False,\n",
    "              warmup_init=False):\n",
    "  \n",
    "    return Adafactor(\n",
    "        [p for n, p in model.named_parameters() if n == \"soft_prompt.weight\"],\n",
    "        lr=lr,\n",
    "        eps=eps,\n",
    "        clip_threshold=clip_threshold,\n",
    "        decay_rate=decay_rate,\n",
    "        beta1=beta1,\n",
    "        weight_decay=weight_decay,\n",
    "        relative_step=relative_step,\n",
    "        scale_parameter=scale_parameter,\n",
    "        warmup_init=warmup_init\n",
    "    )\n",
    "optimizer_t5 = optimizer_adafactor(model_t5_small)"
   ],
   "metadata": {
    "pycharm": {
     "name": "#%%\n"
    },
    "id": "VKXdRP2yh0qY"
   }
  },
  {
   "cell_type": "markdown",
   "source": [
    "## Training Routine Definition"
   ],
   "metadata": {
    "collapsed": false,
    "pycharm": {
     "name": "#%% md\n"
    },
    "id": "uNBoD0Mth0qZ"
   }
  },
  {
   "cell_type": "code",
   "execution_count": 31,
   "outputs": [],
   "source": [
    "def progress(loss,value, max=100):\n",
    "    return HTML(\"\"\" Batch loss :{loss}\n",
    "        <progress\n",
    "            value='{value}'\n",
    "            max='{max}',\n",
    "            style='width: 100%'\n",
    "        >\n",
    "            {value}\n",
    "        </progress>\n",
    "    \"\"\".format(loss=loss,value=value, max=max))\n",
    "\n",
    "def trainer(model, num_batches, inputs, labels, optimizer, challenge_name, model_name):\n",
    "    # Set the model in training mode\n",
    "    model.train()\n",
    "\n",
    "    loss_per_10_steps=[]\n",
    "    for epoch in range(1,epochs+1):\n",
    "      print('Running epoch: {}'.format(epoch))\n",
    "      running_loss=0\n",
    "\n",
    "      out = display(progress(1, num_batches+1), display_id=True)\n",
    "      for i in range(num_batches):\n",
    "\n",
    "        # clear out the gradients of all Variables\n",
    "        optimizer.zero_grad()\n",
    "\n",
    "        # Forward propogation\n",
    "        outputs = model(input_ids=inputs[i], labels=labels[i])\n",
    "        loss = outputs.loss\n",
    "        loss_num=loss.item()\n",
    "        logits = outputs.logits\n",
    "        running_loss+=loss_num\n",
    "        if i%10 == 0: loss_per_10_steps.append(loss_num)\n",
    "        out.update(progress(loss_num,i, num_batches+1))\n",
    "\n",
    "        # calculating the gradients\n",
    "        loss.backward()\n",
    "\n",
    "        #updating the params\n",
    "        optimizer.step()\n",
    "\n",
    "      running_loss=running_loss/int(num_batches)\n",
    "      print('Epoch: {} , Running loss: {}'.format(epoch,running_loss))\n",
    "\n",
    "      # plot the loss\n",
    "      steps = [i for i in range(len(loss_per_10_steps))]\n",
    "      plt.plot(steps, loss_per_10_steps)\n",
    "      plt.title(f'Loss curve for the {challenge_name} challenge trained for {epochs} epochs on T5-{model_name}')\n",
    "      plt.xlabel('Steps')\n",
    "      plt.ylabel('Loss')\n",
    "      plt.show()\n",
    "    return model\n",
    "\n",
    "epochs = 1\n"
   ],
   "metadata": {
    "pycharm": {
     "name": "#%%\n"
    },
    "id": "osZOfoXAh0qZ"
   }
  },
  {
   "cell_type": "markdown",
   "source": [
    "## Training Process"
   ],
   "metadata": {
    "id": "mQG9jyovcPZc"
   }
  },
  {
   "cell_type": "code",
   "source": [
    "# Train T5 small on a mixture of all three challenges\n",
    "\n",
    "model_t5_small = trainer(model=model_t5_small, \n",
    "                         num_batches=number_of_batches_train_amr, \n",
    "                         inputs=inputs_train_amr, \n",
    "                         labels=labels_train_amr,\n",
    "                         optimizer=optimizer_t5,\n",
    "                         challenge_name='AMR',\n",
    "                         model_name='small')"
   ],
   "metadata": {
    "id": "DZDXEP8bW21T",
    "colab": {
     "base_uri": "https://localhost:8080/",
     "height": 363
    },
    "outputId": "d7585043-ed9f-48bd-b0cb-350aa2ab689d"
   },
   "execution_count": 32,
   "outputs": [
    {
     "output_type": "stream",
     "name": "stdout",
     "text": [
      "Running epoch: 1\n"
     ]
    },
    {
     "output_type": "display_data",
     "data": {
      "text/html": [
       " Batch loss :1.902909755706787\n",
       "        <progress\n",
       "            value='167'\n",
       "            max='169',\n",
       "            style='width: 100%'\n",
       "        >\n",
       "            167\n",
       "        </progress>\n",
       "    "
      ],
      "text/plain": [
       "<IPython.core.display.HTML object>"
      ]
     },
     "metadata": {}
    },
    {
     "output_type": "stream",
     "name": "stdout",
     "text": [
      "Epoch: 1 , Running loss: 2.094692670163654\n"
     ]
    },
    {
     "output_type": "display_data",
     "data": {
      "image/png": "[encoded data removed]",
      "text/plain": [
       "<Figure size 432x288 with 1 Axes>"
      ]
     },
     "metadata": {
      "needs_background": "light"
     }
    }
   ]
  },
  {
   "cell_type": "code",
   "source": [
    "#@title Flush memory after interrupting training\n",
    "#@markdown This will *hopefully* prevent a CUDA out-of-memory error.\n",
    "try:\n",
    "  del input_ids\n",
    "except Exception:\n",
    "  pass\n",
    "torch.cuda.empty_cache()\n",
    "torch.cuda.memory_summary(device=None, abbreviated=False)"
   ],
   "metadata": {
    "id": "jEHrothmDVVC"
   },
   "execution_count": null,
   "outputs": []
  },
  {
   "cell_type": "markdown",
   "source": [
    "## Evaluate a Model"
   ],
   "metadata": {
    "id": "1lcpAnNzxIKC"
   }
  },
  {
   "cell_type": "code",
   "source": [
    "# use this method to generate text for each test input ids, then save the predictions\n",
    "# in a file 'hypothesis' for web nlg and amr to later use the official evaluation script for the \n",
    "# challenges\n",
    "def make_predictions(model, inputs_test, tokenizer, challenge_name):\n",
    "\n",
    "  model_predictions = []\n",
    "  model.eval()\n",
    "  with torch.no_grad():\n",
    "    for i in range(len(inputs_test)):\n",
    "      print(i)\n",
    "      output = tokenizer.batch_decode(model.generate(inputs_test[i],\n",
    "                                                     do_sample=True, \n",
    "                                                     max_length=400,\n",
    "                                                     top_p=0.92,\n",
    "                                                     top_k=0),\n",
    "                                      skip_special_tokens=True)\n",
    "      model_predictions.append([x.replace('<pad>','').replace('</s>','').strip() for x in output])\n",
    "\n",
    "    # flatten the predictions list which has the length of batch_size * number_of_batches\n",
    "    model_predictions = list(chain(*model_predictions))  \n",
    "  model.train()\n",
    "  with open('drive/MyDrive/MIwDL/data/' + challenge_name + '/test/prompt_tuning_hypothesis/hypothesis', 'w') as file:\n",
    "    for i in range(len(model_predictions)):\n",
    "      file.write(model_predictions[i] + '\\n' if i < len(model_predictions)-1 else model_predictions[i])\n",
    "  return model_predictions"
   ],
   "metadata": {
    "id": "vHYrhlgB_ZDe"
   },
   "execution_count": 65,
   "outputs": []
  },
  {
   "cell_type": "code",
   "source": [
    "model_predictions = make_predictions(model=model_t5_small,\n",
    "                         inputs_test=inputs_test_amr,\n",
    "                         tokenizer=tokenizer_t5_small,\n",
    "                         challenge_name='amr')"
   ],
   "metadata": {
    "colab": {
     "base_uri": "https://localhost:8080/",
     "height": 375
    },
    "id": "UkCgGtDRsP0P",
    "outputId": "bc1e3ac6-4df0-4683-cd06-5a82e424b7cc"
   },
   "execution_count": 66,
   "outputs": [
    {
     "output_type": "stream",
     "name": "stdout",
     "text": [
      "0\n"
     ]
    },
    {
     "output_type": "error",
     "ename": "TypeError",
     "evalue": "ignored",
     "traceback": [
      "\u001B[0;31m---------------------------------------------------------------------------\u001B[0m",
      "\u001B[0;31mTypeError\u001B[0m                                 Traceback (most recent call last)",
      "\u001B[0;32m<ipython-input-66-3dbbaecc18d7>\u001B[0m in \u001B[0;36m<module>\u001B[0;34m()\u001B[0m\n\u001B[1;32m      2\u001B[0m                          \u001B[0minputs_test\u001B[0m\u001B[0;34m=\u001B[0m\u001B[0minputs_test_amr\u001B[0m\u001B[0;34m,\u001B[0m\u001B[0;34m\u001B[0m\u001B[0;34m\u001B[0m\u001B[0m\n\u001B[1;32m      3\u001B[0m                          \u001B[0mtokenizer\u001B[0m\u001B[0;34m=\u001B[0m\u001B[0mtokenizer_t5_small\u001B[0m\u001B[0;34m,\u001B[0m\u001B[0;34m\u001B[0m\u001B[0;34m\u001B[0m\u001B[0m\n\u001B[0;32m----> 4\u001B[0;31m                          challenge_name='amr')\n\u001B[0m",
      "\u001B[0;32m<ipython-input-65-7cc48df34672>\u001B[0m in \u001B[0;36mmake_predictions\u001B[0;34m(model, inputs_test, tokenizer, challenge_name)\u001B[0m\n\u001B[1;32m     13\u001B[0m                                                      \u001B[0mmax_length\u001B[0m\u001B[0;34m=\u001B[0m\u001B[0;36m400\u001B[0m\u001B[0;34m,\u001B[0m\u001B[0;34m\u001B[0m\u001B[0;34m\u001B[0m\u001B[0m\n\u001B[1;32m     14\u001B[0m                                                      \u001B[0mtop_p\u001B[0m\u001B[0;34m=\u001B[0m\u001B[0;36m0.92\u001B[0m\u001B[0;34m,\u001B[0m\u001B[0;34m\u001B[0m\u001B[0;34m\u001B[0m\u001B[0m\n\u001B[0;32m---> 15\u001B[0;31m                                                      top_k=0),\n\u001B[0m\u001B[1;32m     16\u001B[0m                                       skip_special_tokens=True)\n\u001B[1;32m     17\u001B[0m       \u001B[0mmodel_predictions\u001B[0m\u001B[0;34m.\u001B[0m\u001B[0mappend\u001B[0m\u001B[0;34m(\u001B[0m\u001B[0;34m[\u001B[0m\u001B[0mx\u001B[0m\u001B[0;34m.\u001B[0m\u001B[0mreplace\u001B[0m\u001B[0;34m(\u001B[0m\u001B[0;34m'<pad>'\u001B[0m\u001B[0;34m,\u001B[0m\u001B[0;34m''\u001B[0m\u001B[0;34m)\u001B[0m\u001B[0;34m.\u001B[0m\u001B[0mreplace\u001B[0m\u001B[0;34m(\u001B[0m\u001B[0;34m'</s>'\u001B[0m\u001B[0;34m,\u001B[0m\u001B[0;34m''\u001B[0m\u001B[0;34m)\u001B[0m\u001B[0;34m.\u001B[0m\u001B[0mstrip\u001B[0m\u001B[0;34m(\u001B[0m\u001B[0;34m)\u001B[0m \u001B[0;32mfor\u001B[0m \u001B[0mx\u001B[0m \u001B[0;32min\u001B[0m \u001B[0moutput\u001B[0m\u001B[0;34m]\u001B[0m\u001B[0;34m)\u001B[0m\u001B[0;34m\u001B[0m\u001B[0;34m\u001B[0m\u001B[0m\n",
      "\u001B[0;32m/usr/local/lib/python3.7/dist-packages/torch/autograd/grad_mode.py\u001B[0m in \u001B[0;36mdecorate_context\u001B[0;34m(*args, **kwargs)\u001B[0m\n\u001B[1;32m     26\u001B[0m         \u001B[0;32mdef\u001B[0m \u001B[0mdecorate_context\u001B[0m\u001B[0;34m(\u001B[0m\u001B[0;34m*\u001B[0m\u001B[0margs\u001B[0m\u001B[0;34m,\u001B[0m \u001B[0;34m**\u001B[0m\u001B[0mkwargs\u001B[0m\u001B[0;34m)\u001B[0m\u001B[0;34m:\u001B[0m\u001B[0;34m\u001B[0m\u001B[0;34m\u001B[0m\u001B[0m\n\u001B[1;32m     27\u001B[0m             \u001B[0;32mwith\u001B[0m \u001B[0mself\u001B[0m\u001B[0;34m.\u001B[0m\u001B[0m__class__\u001B[0m\u001B[0;34m(\u001B[0m\u001B[0;34m)\u001B[0m\u001B[0;34m:\u001B[0m\u001B[0;34m\u001B[0m\u001B[0;34m\u001B[0m\u001B[0m\n\u001B[0;32m---> 28\u001B[0;31m                 \u001B[0;32mreturn\u001B[0m \u001B[0mfunc\u001B[0m\u001B[0;34m(\u001B[0m\u001B[0;34m*\u001B[0m\u001B[0margs\u001B[0m\u001B[0;34m,\u001B[0m \u001B[0;34m**\u001B[0m\u001B[0mkwargs\u001B[0m\u001B[0;34m)\u001B[0m\u001B[0;34m\u001B[0m\u001B[0;34m\u001B[0m\u001B[0m\n\u001B[0m\u001B[1;32m     29\u001B[0m         \u001B[0;32mreturn\u001B[0m \u001B[0mcast\u001B[0m\u001B[0;34m(\u001B[0m\u001B[0mF\u001B[0m\u001B[0;34m,\u001B[0m \u001B[0mdecorate_context\u001B[0m\u001B[0;34m)\u001B[0m\u001B[0;34m\u001B[0m\u001B[0;34m\u001B[0m\u001B[0m\n\u001B[1;32m     30\u001B[0m \u001B[0;34m\u001B[0m\u001B[0m\n",
      "\u001B[0;32m/usr/local/lib/python3.7/dist-packages/transformers/generation_utils.py\u001B[0m in \u001B[0;36mgenerate\u001B[0;34m(self, inputs, max_length, min_length, do_sample, early_stopping, num_beams, temperature, top_k, top_p, repetition_penalty, bad_words_ids, bos_token_id, pad_token_id, eos_token_id, length_penalty, no_repeat_ngram_size, encoder_no_repeat_ngram_size, num_return_sequences, max_time, max_new_tokens, decoder_start_token_id, use_cache, num_beam_groups, diversity_penalty, prefix_allowed_tokens_fn, logits_processor, stopping_criteria, output_attentions, output_hidden_states, output_scores, return_dict_in_generate, forced_bos_token_id, forced_eos_token_id, remove_invalid_values, synced_gpus, **model_kwargs)\u001B[0m\n\u001B[1;32m   1144\u001B[0m                 \u001B[0mreturn_dict_in_generate\u001B[0m\u001B[0;34m=\u001B[0m\u001B[0mreturn_dict_in_generate\u001B[0m\u001B[0;34m,\u001B[0m\u001B[0;34m\u001B[0m\u001B[0;34m\u001B[0m\u001B[0m\n\u001B[1;32m   1145\u001B[0m                 \u001B[0msynced_gpus\u001B[0m\u001B[0;34m=\u001B[0m\u001B[0msynced_gpus\u001B[0m\u001B[0;34m,\u001B[0m\u001B[0;34m\u001B[0m\u001B[0;34m\u001B[0m\u001B[0m\n\u001B[0;32m-> 1146\u001B[0;31m                 \u001B[0;34m**\u001B[0m\u001B[0mmodel_kwargs\u001B[0m\u001B[0;34m,\u001B[0m\u001B[0;34m\u001B[0m\u001B[0;34m\u001B[0m\u001B[0m\n\u001B[0m\u001B[1;32m   1147\u001B[0m             )\n\u001B[1;32m   1148\u001B[0m \u001B[0;34m\u001B[0m\u001B[0m\n",
      "\u001B[0;32m/usr/local/lib/python3.7/dist-packages/transformers/generation_utils.py\u001B[0m in \u001B[0;36msample\u001B[0;34m(self, input_ids, logits_processor, stopping_criteria, logits_warper, max_length, pad_token_id, eos_token_id, output_attentions, output_hidden_states, output_scores, return_dict_in_generate, synced_gpus, **model_kwargs)\u001B[0m\n\u001B[1;32m   1648\u001B[0m                 \u001B[0mreturn_dict\u001B[0m\u001B[0;34m=\u001B[0m\u001B[0;32mTrue\u001B[0m\u001B[0;34m,\u001B[0m\u001B[0;34m\u001B[0m\u001B[0;34m\u001B[0m\u001B[0m\n\u001B[1;32m   1649\u001B[0m                 \u001B[0moutput_attentions\u001B[0m\u001B[0;34m=\u001B[0m\u001B[0moutput_attentions\u001B[0m\u001B[0;34m,\u001B[0m\u001B[0;34m\u001B[0m\u001B[0;34m\u001B[0m\u001B[0m\n\u001B[0;32m-> 1650\u001B[0;31m                 \u001B[0moutput_hidden_states\u001B[0m\u001B[0;34m=\u001B[0m\u001B[0moutput_hidden_states\u001B[0m\u001B[0;34m,\u001B[0m\u001B[0;34m\u001B[0m\u001B[0;34m\u001B[0m\u001B[0m\n\u001B[0m\u001B[1;32m   1651\u001B[0m             )\n\u001B[1;32m   1652\u001B[0m \u001B[0;34m\u001B[0m\u001B[0m\n",
      "\u001B[0;32m/usr/local/lib/python3.7/dist-packages/torch/nn/modules/module.py\u001B[0m in \u001B[0;36m_call_impl\u001B[0;34m(self, *input, **kwargs)\u001B[0m\n\u001B[1;32m   1100\u001B[0m         if not (self._backward_hooks or self._forward_hooks or self._forward_pre_hooks or _global_backward_hooks\n\u001B[1;32m   1101\u001B[0m                 or _global_forward_hooks or _global_forward_pre_hooks):\n\u001B[0;32m-> 1102\u001B[0;31m             \u001B[0;32mreturn\u001B[0m \u001B[0mforward_call\u001B[0m\u001B[0;34m(\u001B[0m\u001B[0;34m*\u001B[0m\u001B[0minput\u001B[0m\u001B[0;34m,\u001B[0m \u001B[0;34m**\u001B[0m\u001B[0mkwargs\u001B[0m\u001B[0;34m)\u001B[0m\u001B[0;34m\u001B[0m\u001B[0;34m\u001B[0m\u001B[0m\n\u001B[0m\u001B[1;32m   1103\u001B[0m         \u001B[0;31m# Do not call functions when jit is used\u001B[0m\u001B[0;34m\u001B[0m\u001B[0;34m\u001B[0m\u001B[0;34m\u001B[0m\u001B[0m\n\u001B[1;32m   1104\u001B[0m         \u001B[0mfull_backward_hooks\u001B[0m\u001B[0;34m,\u001B[0m \u001B[0mnon_full_backward_hooks\u001B[0m \u001B[0;34m=\u001B[0m \u001B[0;34m[\u001B[0m\u001B[0;34m]\u001B[0m\u001B[0;34m,\u001B[0m \u001B[0;34m[\u001B[0m\u001B[0;34m]\u001B[0m\u001B[0;34m\u001B[0m\u001B[0;34m\u001B[0m\u001B[0m\n",
      "\u001B[0;31mTypeError\u001B[0m: forward() got an unexpected keyword argument 'decoder_input_ids'"
     ]
    }
   ]
  },
  {
   "cell_type": "markdown",
   "source": [
    "## Save the Model"
   ],
   "metadata": {
    "id": "oIFaZMLtsiU6"
   }
  },
  {
   "cell_type": "code",
   "source": [
    "torch.save(model_t5_small_web_nlg.state_dict(),f'drive/MyDrive/MIwDL/models/25_epochs_t5_small/t5_small_web_nlg_{epochs}_epochs_batch_size_{batch_size_web_nlg}_optimized_inputs.bin')"
   ],
   "metadata": {
    "id": "710KzDLLsqxW"
   },
   "execution_count": null,
   "outputs": []
  },
  {
   "cell_type": "code",
   "source": [
    "torch.save(model_t5_small_e2e.state_dict(),f'drive/MyDrive/MIwDL/models/25_epochs_t5_small/t5_small_e2e_{epochs}_epochs_batch_size_{batch_size_e2e}.bin')"
   ],
   "metadata": {
    "id": "URldTyRmuCYk"
   },
   "execution_count": null,
   "outputs": []
  },
  {
   "cell_type": "code",
   "source": [
    "torch.save(model_t5_base_amr.state_dict(),f'drive/MyDrive/MIwDL/models/t5_base/t5_base_amr_{epochs}_epochs_batch_size_{batch_size_amr}.bin')"
   ],
   "metadata": {
    "id": "hzI_fWoRW0s_"
   },
   "execution_count": null,
   "outputs": []
  },
  {
   "cell_type": "markdown",
   "source": [
    "## Load a model"
   ],
   "metadata": {
    "id": "7JhDhOJ2r5gX"
   }
  },
  {
   "cell_type": "code",
   "source": [
    "!wget https://s3.amazonaws.com/models.huggingface.co/bert/t5-small-config.json\n",
    "#!wget https://s3.amazonaws.com/models.huggingface.co/bert/t5-base-config.json\n",
    "#!wget https://s3.amazonaws.com/models.huggingface.co/bert/t5-large-config.json\n",
    "\n",
    "model_t5_small_e2e = T5ForConditionalGeneration.from_pretrained('drive/MyDrive/MIwDL/models/25_epochs_t5_small/t5_small_web_nlg_25_epochs_batch_size_8.bin', \n",
    "                                                                    return_dict=True,\n",
    "                                                                    config='t5-small-config.json')\n",
    "\n",
    "if torch.cuda.is_available():\n",
    "    dev = torch.device(\"cuda:0\")\n",
    "    print(\"Running on the GPU\")\n",
    "else:\n",
    "    dev = torch.device(\"cpu\")\n",
    "    print(\"Running on the CPU\")\n",
    "\n",
    "model_t5_small_e2e.to(dev)\n",
    "\n",
    "tokenizer_t5_small = T5Tokenizer.from_pretrained('t5-small')\n"
   ],
   "metadata": {
    "id": "jbYi2PuIr5De"
   },
   "execution_count": null,
   "outputs": []
  }
 ],
 "metadata": {
  "kernelspec": {
   "display_name": "Python 3",
   "language": "python",
   "name": "python3"
  },
  "language_info": {
   "codemirror_mode": {
    "name": "ipython",
    "version": 2
   },
   "file_extension": ".py",
   "mimetype": "text/x-python",
   "name": "python",
   "nbconvert_exporter": "python",
   "pygments_lexer": "ipython2",
   "version": "2.7.6"
  },
  "colab": {
   "name": "prompt_tuning_t5.ipynb",
   "provenance": [],
   "collapsed_sections": [
    "OIoYkDMph0qI",
    "qtPNBfoDh0qQ",
    "YA92MUkIh0qU",
    "j4u8a5oqh0qY",
    "uNBoD0Mth0qZ",
    "mQG9jyovcPZc",
    "oIFaZMLtsiU6",
    "7JhDhOJ2r5gX"
   ],
   "machine_shape": "hm"
  },
  "accelerator": "GPU"
 },
 "nbformat": 4,
 "nbformat_minor": 0
}