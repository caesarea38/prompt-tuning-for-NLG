{
 "cells": [
  {
   "cell_type": "markdown",
   "source": [
    "## Installing the required packages"
   ],
   "metadata": {
    "collapsed": false,
    "id": "OIoYkDMph0qI"
   }
  },
  {
   "cell_type": "code",
   "execution_count": 4,
   "metadata": {
    "collapsed": true,
    "id": "uemA2s_7h0qO",
    "colab": {
     "base_uri": "https://localhost:8080/"
    },
    "outputId": "ecbc2d79-dc4d-4bb7-ffbf-7e8a44b00b0b"
   },
   "outputs": [
    {
     "output_type": "stream",
     "name": "stdout",
     "text": [
      "\u001B[?25l\r\u001B[K     |█                               | 10 kB 37.3 MB/s eta 0:00:01\r\u001B[K     |██▏                             | 20 kB 24.8 MB/s eta 0:00:01\r\u001B[K     |███▏                            | 30 kB 17.8 MB/s eta 0:00:01\r\u001B[K     |████▎                           | 40 kB 15.5 MB/s eta 0:00:01\r\u001B[K     |█████▍                          | 51 kB 8.4 MB/s eta 0:00:01\r\u001B[K     |██████▍                         | 61 kB 9.9 MB/s eta 0:00:01\r\u001B[K     |███████▌                        | 71 kB 9.0 MB/s eta 0:00:01\r\u001B[K     |████████▋                       | 81 kB 10.1 MB/s eta 0:00:01\r\u001B[K     |█████████▋                      | 92 kB 10.2 MB/s eta 0:00:01\r\u001B[K     |██████████▊                     | 102 kB 8.2 MB/s eta 0:00:01\r\u001B[K     |███████████▊                    | 112 kB 8.2 MB/s eta 0:00:01\r\u001B[K     |████████████▉                   | 122 kB 8.2 MB/s eta 0:00:01\r\u001B[K     |██████████████                  | 133 kB 8.2 MB/s eta 0:00:01\r\u001B[K     |███████████████                 | 143 kB 8.2 MB/s eta 0:00:01\r\u001B[K     |████████████████                | 153 kB 8.2 MB/s eta 0:00:01\r\u001B[K     |█████████████████▏              | 163 kB 8.2 MB/s eta 0:00:01\r\u001B[K     |██████████████████▏             | 174 kB 8.2 MB/s eta 0:00:01\r\u001B[K     |███████████████████▎            | 184 kB 8.2 MB/s eta 0:00:01\r\u001B[K     |████████████████████▎           | 194 kB 8.2 MB/s eta 0:00:01\r\u001B[K     |█████████████████████▍          | 204 kB 8.2 MB/s eta 0:00:01\r\u001B[K     |██████████████████████▌         | 215 kB 8.2 MB/s eta 0:00:01\r\u001B[K     |███████████████████████▌        | 225 kB 8.2 MB/s eta 0:00:01\r\u001B[K     |████████████████████████▋       | 235 kB 8.2 MB/s eta 0:00:01\r\u001B[K     |█████████████████████████▊      | 245 kB 8.2 MB/s eta 0:00:01\r\u001B[K     |██████████████████████████▊     | 256 kB 8.2 MB/s eta 0:00:01\r\u001B[K     |███████████████████████████▉    | 266 kB 8.2 MB/s eta 0:00:01\r\u001B[K     |████████████████████████████▉   | 276 kB 8.2 MB/s eta 0:00:01\r\u001B[K     |██████████████████████████████  | 286 kB 8.2 MB/s eta 0:00:01\r\u001B[K     |███████████████████████████████ | 296 kB 8.2 MB/s eta 0:00:01\r\u001B[K     |████████████████████████████████| 306 kB 8.2 MB/s \n",
      "\u001B[K     |████████████████████████████████| 132 kB 90.7 MB/s \n",
      "\u001B[K     |████████████████████████████████| 1.1 MB 77.8 MB/s \n",
      "\u001B[K     |████████████████████████████████| 243 kB 76.9 MB/s \n",
      "\u001B[K     |████████████████████████████████| 160 kB 89.6 MB/s \n",
      "\u001B[K     |████████████████████████████████| 192 kB 98.5 MB/s \n",
      "\u001B[K     |████████████████████████████████| 271 kB 98.2 MB/s \n",
      "\u001B[?25h"
     ]
    }
   ],
   "source": [
    "!pip install transformers --quiet\n",
    "!pip install sentencepiece --quiet\n",
    "!pip install sacrebleu --quiet\n",
    "!pip install datasets --quiet"
   ]
  },
  {
   "cell_type": "markdown",
   "source": [
    "## Importing required libraries"
   ],
   "metadata": {
    "collapsed": false,
    "id": "qtPNBfoDh0qQ"
   }
  },
  {
   "cell_type": "code",
   "execution_count": 5,
   "outputs": [],
   "source": [
    "import pandas as pd\n",
    "import os\n",
    "import torch\n",
    "import time\n",
    "import warnings\n",
    "import matplotlib.pyplot as plt\n",
    "from itertools import chain\n",
    "warnings.filterwarnings('ignore')\n",
    "\n",
    "from transformers import pipeline, T5Tokenizer, T5ForConditionalGeneration\n",
    "from transformers.optimization import Adafactor, AdamW\n",
    "from datasets import load_metric\n",
    "from sacrebleu.metrics import BLEU\n",
    "from IPython.display import HTML, display"
   ],
   "metadata": {
    "pycharm": {
     "name": "#%%\n"
    },
    "id": "2gK6uqcrh0qQ"
   }
  },
  {
   "cell_type": "code",
   "execution_count": 6,
   "outputs": [
    {
     "output_type": "stream",
     "name": "stdout",
     "text": [
      "Mounted at /content/drive\n"
     ]
    }
   ],
   "source": [
    "# Use this when working on Google Colab\n",
    "from google.colab import drive\n",
    "drive.mount('/content/drive')"
   ],
   "metadata": {
    "pycharm": {
     "name": "#%%\n"
    },
    "colab": {
     "base_uri": "https://localhost:8080/"
    },
    "id": "w9e6cPibh0qR",
    "outputId": "40038d68-80c9-43d2-f84f-bc4232a76cfe"
   }
  },
  {
   "cell_type": "markdown",
   "source": [
    "## Load the Pre-trained model T5 and the tokenizer"
   ],
   "metadata": {
    "collapsed": false,
    "id": "MxsDKQlsh0qR"
   }
  },
  {
   "cell_type": "code",
   "execution_count": null,
   "outputs": [],
   "source": [
    "# Check GPU availability\n",
    "if torch.cuda.is_available():\n",
    "    dev = torch.device(\"cuda:0\")\n",
    "    print(\"Running on the GPU\")\n",
    "else:\n",
    "    dev = torch.device(\"cpu\")\n",
    "    print(\"Running on the CPU\")\n",
    "\n",
    "#tokenizer_t5_small = T5Tokenizer.from_pretrained('t5-small')\n",
    "tokenizer_t5_base = T5Tokenizer.from_pretrained('t5-base')\n",
    "\n",
    "# Instantiate three T5 small models for the 3 datasets\n",
    "#model_t5_small_web_nlg = T5ForConditionalGeneration.from_pretrained('t5-small', return_dict=True)\n",
    "#model_t5_small_e2e = T5ForConditionalGeneration.from_pretrained('t5-small', return_dict=True)\n",
    "#model_t5_small_amr = T5ForConditionalGeneration.from_pretrained('t5-small', return_dict=True)\n",
    "\n",
    "# Instantiate three T5 base models for the 3 datasets\n",
    "model_t5_base_web_nlg = T5ForConditionalGeneration.from_pretrained('t5-base', return_dict=True)\n",
    "model_t5_base_e2e = T5ForConditionalGeneration.from_pretrained('t5-base', return_dict=True)\n",
    "model_t5_base_amr = T5ForConditionalGeneration.from_pretrained('t5-base', return_dict=True)\n",
    "\n",
    "#moving the models to device(GPU/CPU)\n",
    "\n",
    "#model_t5_small_web_nlg.to(dev)\n",
    "#model_t5_small_e2e.to(dev)\n",
    "#model_t5_small_amr.to(dev)\n",
    "\n",
    "model_t5_base_web_nlg.to(dev)\n",
    "model_t5_base_e2e.to(dev)\n",
    "model_t5_base_amr.to(dev)"
   ],
   "metadata": {
    "pycharm": {
     "name": "#%%\n"
    },
    "id": "KyZrfrkoh0qS"
   }
  },
  {
   "cell_type": "markdown",
   "source": [
    "## Preprocessing"
   ],
   "metadata": {
    "collapsed": false,
    "id": "YA92MUkIh0qU"
   }
  },
  {
   "cell_type": "code",
   "execution_count": null,
   "outputs": [],
   "source": [
    "# As for Web NLG and E2E the datasets are already available as csv. For Abstract Meaning Representation (AMR), the official web page only provides a text file\n",
    "# ,so we process this file to extract the meaning representations and the target sentences and save the results as csv\n",
    "\n",
    "\"\"\"with open('data/amr/amr-bank-struct-v3.0.txt') as file:\n",
    "    lines = file.readlines()\n",
    "    lines = [line.rstrip() for line in lines]\n",
    "\n",
    "meaning_representations_not_flattened = list(filter(None, [line if not line.__contains__(\"#\") else [] for line in lines]))\n",
    "target_sentences = list(filter(None, [line[8:] if line.__contains__(\"# ::snt\") else [] for line in lines]))\n",
    "meaning_representations = []\n",
    "\n",
    "for i in range(len(meaning_representations_not_flattened)):\n",
    "    if meaning_representations_not_flattened[i][0] == \"(\":\n",
    "        j = i+1\n",
    "        while meaning_representations_not_flattened[j][0] != \"(\":\n",
    "            j +=1\n",
    "            if j == len(meaning_representations_not_flattened): break\n",
    "        meaning_representations.append(''.join(map(str, meaning_representations_not_flattened[i:j])).replace(' ', ''))\"\"\"\n",
    "\n",
    "# As for Web NLG and E2E the train/test split is roughly 90/10, so we also use this split for AMR\n",
    "#pd.DataFrame(list(zip(meaning_representations[:1404], target_sentences[:1404])), columns=['input_text','target_text']).to_csv('data/amr/abstract_meaning_representation_train.csv', index=False)\n",
    "#pd.DataFrame(list(zip(meaning_representations[1404:], target_sentences[1404:])), columns=['input_text','target_text']).to_csv('data/amr/abstract_meaning_representation_test.csv', index=False)"
   ],
   "metadata": {
    "pycharm": {
     "name": "#%%\n"
    },
    "id": "qRBcOeOFh0qU"
   }
  },
  {
   "cell_type": "code",
   "execution_count": 72,
   "outputs": [],
   "source": [
    "# Load the datasets for the Web NLG 2020 challenge\n",
    "train_data_web_nlg = pd.read_csv('drive/MyDrive/MIwDL/data/web_nlg/train/webNLG2020_train.csv')\n",
    "test_data_web_nlg = pd.read_csv('drive/MyDrive/MIwDL/data/web_nlg/test/webNLG2020_test.csv')\n",
    "\n",
    "# Load the datasets for the Meaning Representation E2E challenge\n",
    "train_data_e2e = pd.read_csv('drive/MyDrive/MIwDL/data/e2e/train/trainset.csv')\n",
    "test_data_e2e = pd.read_csv('drive/MyDrive/MIwDL/data/e2e/test/testset_w_refs.csv')\n",
    "\n",
    "# Load the datasets for the Abstract Meaning Representation AMR challenge\n",
    "train_data_amr = pd.read_csv('drive/MyDrive/MIwDL/data/amr/abstract_meaning_representation_train.csv')\n",
    "test_data_amr = pd.read_csv('drive/MyDrive/MIwDL/data/amr/abstract_meaning_representation_test.csv')"
   ],
   "metadata": {
    "pycharm": {
     "name": "#%%\n"
    },
    "id": "AWD4aQC0h0qV"
   }
  },
  {
   "cell_type": "code",
   "execution_count": 73,
   "outputs": [],
   "source": [
    "# Trimming off the last few datapoints from Web NLG so hat a batch would not leave any remainder.\n",
    "train_data_web_nlg = train_data_web_nlg.iloc[:35200,:]\n",
    "test_data_web_nlg = test_data_web_nlg.iloc[:1720,:]\n",
    "\n",
    "# Trimming off the last few datapoints from E2E so that a batch would not leave any remainder.\n",
    "train_data_e2e = train_data_e2e.iloc[:len(train_data_e2e)-1,:]\n",
    "test_data_e2e = test_data_e2e.iloc[:len(test_data_e2e)-5,:]\n",
    "\n",
    "# Trimming off the last few datapoints from AMR so that a batch would not leave any remainder.\n",
    "train_data_amr = train_data_amr.iloc[:len(train_data_amr)-4,:]\n",
    "test_data_amr = test_data_amr.iloc[:len(test_data_amr)-6,:]"
   ],
   "metadata": {
    "pycharm": {
     "name": "#%%\n"
    },
    "id": "_OdBaTJJh0qV"
   }
  },
  {
   "cell_type": "code",
   "source": [
    "# Prepend <H>, <R>, <T> (Head, Relation, Tail) Tokens before each triple element in the input column as a second fine tuning technique for Web NLG\n",
    "def replace_original_triples_with_tokens(data):\n",
    "  last_token = 'tail'\n",
    "  for i in range(len(data)):\n",
    "    split_list = data.iloc[i]['input_text'].split(' | ')\n",
    "    for j in range(len(split_list)):\n",
    "      if last_token == 'tail':\n",
    "        split_list[j] = '<H> ' + split_list[j] \n",
    "        last_token = 'head'\n",
    "      elif last_token == 'head':\n",
    "        split_list[j] = ' <R> ' + split_list[j]\n",
    "        last_token = 'relation'\n",
    "      else:\n",
    "        if last_token == 'relation' and j == len(split_list)-1:\n",
    "          split_list[j] = ' <T> ' + split_list[j]\n",
    "          last_token = 'tail'\n",
    "          data.iloc[i]['input_text'] = ''.join(split_list)\n",
    "        else: \n",
    "          split_list[j] = ' <T> ' + split_list[j][:split_list[j].index('&')+2] + ' <H>' + split_list[j][split_list[j].index('&')+2:]\n",
    "          last_token = 'head'\n",
    "  return data\n",
    "\n",
    "#train_data_web_nlg_optimized_inputs = replace_original_triples_with_tokens(train_data_web_nlg)\n",
    "#test_data_web_nlg_optimized_inputs = replace_original_triples_with_tokens(test_data_web_nlg)\n",
    "\n",
    "# Save the new dataframes with new optimized input texts as csv\n",
    "#train_data_web_nlg_optimized_inputs.to_csv('drive/MyDrive/MIwDL/data/web_nlg/train/webNLG2020_train_optimized_inputs.csv', index=False)\n",
    "#test_data_web_nlg_optimized_inputs.to_csv('drive/MyDrive/MIwDL/data/web_nlg/test/webNLG2020_test_optimized_inputs.csv', i"
   ],
   "metadata": {
    "id": "1f5kuSIb1fgZ"
   },
   "execution_count": 74,
   "outputs": []
  },
  {
   "cell_type": "code",
   "source": [
    "# In the case of Web NLG and E2E, we have multiple inputs that are equal but their corresponding references are always different from each other\n",
    "# To be able to incorporate different reference texts during the BLEU score calculation, we group the references for equal input texts and add\n",
    "# this groups to a new column in the E2E and Web NLG files\n",
    "\n",
    "# sort the values by ascending order\n",
    "test_data_web_nlg = test_data_web_nlg.sort_values(by='input_text', ignore_index=True)\n",
    "train_data_web_nlg = train_data_web_nlg.sort_values(by='input_text', ignore_index=True)\n",
    "test_data_e2e = test_data_e2e.sort_values(by='input_text', ignore_index=True)\n",
    "train_data_e2e = train_data_e2e.sort_values(by='input_text', ignore_index=True)\n",
    "\n",
    "# then find the triple which has the highest occurence count in the input_text columns\n",
    "# This will be needed to later equalize the lengths of the reference lists for BLEU score calculation\n",
    "max_occurrence_train_web_nlg = max(train_data_web_nlg.groupby(['input_text']).size())\n",
    "max_occurrence_test_web_nlg = max(test_data_web_nlg.groupby(['input_text']).size())\n",
    "max_occurrence_train_e2e = max(train_data_e2e.groupby(['input_text']).size())\n",
    "max_occurrence_test_e2e = max(test_data_e2e.groupby(['input_text']).size())"
   ],
   "metadata": {
    "id": "FrFGcPdzY6X2"
   },
   "execution_count": 75,
   "outputs": []
  },
  {
   "cell_type": "code",
   "source": [
    "# Now for each equal input text, create a list of all references and finally add them as a new column\n",
    "def create_references_lists(data, max_occurrence):\n",
    "    references_list = []\n",
    "    inputs_grouped = data.groupby(['input_text'])\n",
    "\n",
    "    for i in range(len(data)):\n",
    "        references = list(inputs_grouped.get_group(data.iloc[i]['input_text'])['target_text'])\n",
    "        for j in range(max_occurrence-len(references)): references.append('')\n",
    "        references_list.append(references)\n",
    "    return references_list\n",
    "\n",
    "# Now add the references lists as new column to the sorted dataframes\n",
    "train_data_web_nlg['references_list'] = create_references_lists(train_data_web_nlg, max_occurrence_train_web_nlg)\n",
    "test_data_web_nlg['references_list'] = create_references_lists(test_data_web_nlg, max_occurrence_test_web_nlg)\n",
    "\n",
    "train_data_e2e['references_list'] = create_references_lists(train_data_e2e, max_occurrence_train_e2e)\n",
    "test_data_e2e['references_list'] = create_references_lists(test_data_e2e, max_occurrence_test_e2e)"
   ],
   "metadata": {
    "id": "xZsVUpC1TxQw"
   },
   "execution_count": 76,
   "outputs": []
  },
  {
   "cell_type": "code",
   "source": [
    "# sample the data for Web NLG and E2E\n",
    "train_data_web_nlg = train_data_web_nlg.sample(frac=1)\n",
    "test_data_web_nlg = test_data_web_nlg.sample(frac=1)\n",
    "\n",
    "train_data_e2e = train_data_e2e.sample(frac=1)\n",
    "test_data_e2e = test_data_e2e.sample(frac=1)"
   ],
   "metadata": {
    "id": "S0U71LvgCv5y"
   },
   "execution_count": 77,
   "outputs": []
  },
  {
   "cell_type": "code",
   "execution_count": 78,
   "outputs": [
    {
     "output_type": "stream",
     "name": "stdout",
     "text": [
      "--- Number of train batches Web NLG: 4400 --- \n",
      "--- Number of test  batches Web NLG: 215  --- \n",
      "\n",
      "--- Number of train batches E2E : 5257 --- \n",
      "--- Number of test  batches E2E : 586  --- \n",
      "\n",
      "--- Number of train batches AMR : 175 --- \n",
      "--- Number of test  batches AMR : 19  --- \n"
     ]
    }
   ],
   "source": [
    "# Set the batch size and the number of training epochs\n",
    "batch_size_web_nlg = 8\n",
    "batch_size_e2e = 8\n",
    "batch_size_amr = 8\n",
    "\n",
    "number_of_batches_train_web_nlg = int(len(train_data_web_nlg)/batch_size_web_nlg)\n",
    "number_of_batches_test_web_nlg = int(len(test_data_web_nlg)/batch_size_web_nlg)\n",
    "\n",
    "number_of_batches_train_e2e = int(len(train_data_e2e)/batch_size_e2e)\n",
    "number_of_batches_test_e2e = int(len(test_data_e2e)/batch_size_e2e)\n",
    "\n",
    "number_of_batches_train_amr = int(len(train_data_amr)/batch_size_amr)\n",
    "number_of_batches_test_amr = int(len(test_data_amr)/batch_size_amr)\n",
    "\n",
    "print('--- Number of train batches Web NLG: ' + str(number_of_batches_train_web_nlg) + ' --- ')\n",
    "print('--- Number of test  batches Web NLG: ' + str(number_of_batches_test_web_nlg) + '  --- \\n')\n",
    "\n",
    "print('--- Number of train batches E2E : ' + str(number_of_batches_train_e2e) + ' --- ')\n",
    "print('--- Number of test  batches E2E : ' + str(number_of_batches_test_e2e) + '  --- \\n')\n",
    "\n",
    "print('--- Number of train batches AMR : ' + str(number_of_batches_train_amr) + ' --- ')\n",
    "print('--- Number of test  batches AMR : ' + str(number_of_batches_test_amr) + '  --- ')"
   ],
   "metadata": {
    "pycharm": {
     "name": "#%%\n"
    },
    "colab": {
     "base_uri": "https://localhost:8080/"
    },
    "id": "RMhX5cjnh0qW",
    "outputId": "636168f2-1715-4288-8f2d-897217989613"
   }
  },
  {
   "cell_type": "code",
   "execution_count": 80,
   "outputs": [],
   "source": [
    "def create_list_of_batches(batch_size, num_batches, data, challenge_name, tokenizer):\n",
    "# Create List of batches for inputs and labels\n",
    "    inputs = []\n",
    "    labels = []\n",
    "    for i in range(num_batches):\n",
    "        input_batch=[]\n",
    "        label_batch=[]\n",
    "        for index,row in data[i*batch_size:i*batch_size+batch_size].iterrows():\n",
    "          input_batch.append('WebNLG: '+row['input_text']+'</s>' if challenge_name == 'WebNLG' else 'E2E: '+row['input_text']+'</s>' if challenge_name == 'E2E' else 'AMR: '+row['input_text']+'</s>')\n",
    "          label_batch.append(row['target_text']+'</s>')\n",
    "\n",
    "        input_batch=tokenizer.batch_encode_plus(input_batch,padding=True,max_length=400,return_tensors='pt')[\"input_ids\"]\n",
    "        label_batch=tokenizer.batch_encode_plus(label_batch,padding=True,max_length=400,return_tensors='pt')[\"input_ids\"]\n",
    "\n",
    "        input_batch=input_batch.to(dev)\n",
    "        label_batch=label_batch.to(dev)\n",
    "\n",
    "        inputs.append(input_batch)\n",
    "        labels.append(label_batch)\n",
    "    return inputs, labels\n",
    "\n",
    "inputs_train_web_nlg, labels_train_web_nlg = create_list_of_batches(batch_size=batch_size_web_nlg,\n",
    "                                                                    num_batches=number_of_batches_train_web_nlg,\n",
    "                                                                    data=train_data_web_nlg,\n",
    "                                                                    challenge_name='WebNLG',\n",
    "                                                                    tokenizer=tokenizer_t5_base)\n",
    "\n",
    "inputs_test_web_nlg, labels_test_web_nlg   = create_list_of_batches(batch_size=batch_size_web_nlg,\n",
    "                                                                    num_batches=number_of_batches_test_web_nlg,\n",
    "                                                                    data=test_data_web_nlg,\n",
    "                                                                    challenge_name='WebNLG',\n",
    "                                                                    tokenizer=tokenizer_t5_base)\n",
    "\n",
    "inputs_train_e2e, labels_train_e2e         = create_list_of_batches(batch_size=batch_size_e2e,\n",
    "                                                                    num_batches=number_of_batches_train_e2e,\n",
    "                                                                    data=train_data_e2e,\n",
    "                                                                    challenge_name='E2E',\n",
    "                                                                    tokenizer=tokenizer_t5_base)\n",
    "\n",
    "inputs_test_e2e, labels_test_e2e           = create_list_of_batches(batch_size=batch_size_e2e,\n",
    "                                                                    num_batches=number_of_batches_test_e2e,\n",
    "                                                                    data=test_data_e2e,\n",
    "                                                                    challenge_name='E2E',\n",
    "                                                                    tokenizer=tokenizer_t5_base)\n",
    "\n",
    "inputs_train_amr, labels_train_amr         = create_list_of_batches(batch_size=batch_size_amr,\n",
    "                                                                    num_batches=number_of_batches_train_amr,\n",
    "                                                                    data=train_data_amr,\n",
    "                                                                    challenge_name='AMR',\n",
    "                                                                    tokenizer=tokenizer_t5_base)\n",
    "\n",
    "inputs_test_amr, labels_test_amr           = create_list_of_batches(batch_size=batch_size_amr,\n",
    "                                                                    num_batches=number_of_batches_test_amr,\n",
    "                                                                    data=test_data_amr,\n",
    "                                                                    challenge_name='AMR',\n",
    "                                                                    tokenizer=tokenizer_t5_base)"
   ],
   "metadata": {
    "pycharm": {
     "name": "#%%\n"
    },
    "id": "sxy2hYEYh0qX"
   }
  },
  {
   "cell_type": "markdown",
   "source": [
    "## Set the Optimizer with Parameter values suggested for T5"
   ],
   "metadata": {
    "collapsed": false,
    "id": "j4u8a5oqh0qY"
   }
  },
  {
   "cell_type": "code",
   "execution_count": 81,
   "outputs": [],
   "source": [
    "def optimizer_adafactor(model, \n",
    "              lr=1e-3,              # default values for adafactor\n",
    "              eps=(1e-30, 1e-3),    # default values for adafactor\n",
    "              clip_threshold=1.0,   # default values for adafactor \n",
    "              decay_rate=-0.8,      # default values for adafactor\n",
    "              beta1=None,           # default values for adafactor \n",
    "              weight_decay=0.0,     # default values for adafactor \n",
    "              relative_step=False,   \n",
    "              scale_parameter=False,\n",
    "              warmup_init=False):\n",
    "  \n",
    "    return Adafactor(\n",
    "        model.parameters(),\n",
    "        lr=lr,\n",
    "        eps=eps,\n",
    "        clip_threshold=clip_threshold,\n",
    "        decay_rate=decay_rate,\n",
    "        beta1=beta1,\n",
    "        weight_decay=weight_decay,\n",
    "        relative_step=relative_step,\n",
    "        scale_parameter=scale_parameter,\n",
    "        warmup_init=warmup_init\n",
    "    )\n",
    "optimizer_t5_web_nlg = optimizer_adafactor(model_t5_base_web_nlg)\n",
    "optimizer_t5_e2e     = optimizer_adafactor(model_t5_base_e2e)\n",
    "optimizer_t5_amr     = optimizer_adafactor(model_t5_base_amr)"
   ],
   "metadata": {
    "pycharm": {
     "name": "#%%\n"
    },
    "id": "VKXdRP2yh0qY"
   }
  },
  {
   "cell_type": "markdown",
   "source": [
    "## Training Routine"
   ],
   "metadata": {
    "collapsed": false,
    "pycharm": {
     "name": "#%% md\n"
    },
    "id": "uNBoD0Mth0qZ"
   }
  },
  {
   "cell_type": "code",
   "execution_count": null,
   "outputs": [],
   "source": [
    "def progress(loss,value, max=100):\n",
    "    return HTML(\"\"\" Batch loss :{loss}\n",
    "        <progress\n",
    "            value='{value}'\n",
    "            max='{max}',\n",
    "            style='width: 100%'\n",
    "        >\n",
    "            {value}\n",
    "        </progress>\n",
    "    \"\"\".format(loss=loss,value=value, max=max))\n",
    "\n",
    "def trainer(model, num_batches, inputs, labels, optimizer, challenge_name, model_name):\n",
    "    # Set the model in training mode\n",
    "    model.train()\n",
    "\n",
    "    loss_per_10_steps=[]\n",
    "    for epoch in range(1,epochs+1):\n",
    "      print('Running epoch: {}'.format(epoch))\n",
    "      running_loss=0\n",
    "\n",
    "      out = display(progress(1, num_batches+1), display_id=True)\n",
    "      for i in range(num_batches):\n",
    "\n",
    "        # clear out the gradients of all Variables\n",
    "        optimizer.zero_grad()\n",
    "\n",
    "        # Forward propogation\n",
    "        outputs = model(input_ids=inputs[i], labels=labels[i])\n",
    "        loss = outputs.loss\n",
    "        loss_num=loss.item()\n",
    "        logits = outputs.logits\n",
    "        running_loss+=loss_num\n",
    "        if i%10 == 0: loss_per_10_steps.append(loss_num)\n",
    "        out.update(progress(loss_num,i, num_batches+1))\n",
    "\n",
    "        # calculating the gradients\n",
    "        loss.backward()\n",
    "\n",
    "        #updating the params\n",
    "        optimizer.step()\n",
    "\n",
    "      running_loss=running_loss/int(num_batches)\n",
    "      print('Epoch: {} , Running loss: {}'.format(epoch,running_loss))\n",
    "\n",
    "      # plot the loss\n",
    "      steps = [i for i in range(len(loss_per_10_steps))]\n",
    "      plt.plot(steps, loss_per_10_steps)\n",
    "      plt.title(f'Loss curve for the {challenge_name} challenge trained for {epochs} epochs on T5-{model_name}')\n",
    "      plt.xlabel('Steps')\n",
    "      plt.ylabel('Loss')\n",
    "      plt.show()\n",
    "    return model\n",
    "\n",
    "epochs = 10\n"
   ],
   "metadata": {
    "pycharm": {
     "name": "#%%\n"
    },
    "id": "osZOfoXAh0qZ"
   }
  },
  {
   "cell_type": "code",
   "source": [
    "# Train T5 small on Web NLG\n",
    "model_t5_small_web_nlg = trainer(model=model_t5_small_web_nlg, \n",
    "                         num_batches=number_of_batches_train_web_nlg, \n",
    "                         inputs=inputs_train_web_nlg, \n",
    "                         labels=labels_train_web_nlg,\n",
    "                         optimizer=optimizer_t5_small_web_nlg,\n",
    "                         challenge_name='Web NLG',\n",
    "                         model_name='small')"
   ],
   "metadata": {
    "colab": {
     "base_uri": "https://localhost:8080/",
     "height": 1000
    },
    "id": "DZDXEP8bW21T",
    "outputId": "ce52481e-1e63-47a9-846f-b57f36e59187"
   },
   "execution_count": null,
   "outputs": [
    {
     "output_type": "stream",
     "name": "stdout",
     "text": [
      "Running epoch: 1\n"
     ]
    },
    {
     "output_type": "display_data",
     "data": {
      "text/html": [
       " Batch loss :0.8054234981536865\n",
       "        <progress\n",
       "            value='4399'\n",
       "            max='4401',\n",
       "            style='width: 100%'\n",
       "        >\n",
       "            4399\n",
       "        </progress>\n",
       "    "
      ],
      "text/plain": [
       "<IPython.core.display.HTML object>"
      ]
     },
     "metadata": {}
    },
    {
     "output_type": "stream",
     "name": "stdout",
     "text": [
      "Epoch: 1 , Running loss: 0.5790787034278566\n"
     ]
    },
    {
     "output_type": "display_data",
     "data": {
      "image/png": "[encoded data removed]",
      "text/plain": [
       "<Figure size 432x288 with 1 Axes>"
      ]
     },
     "metadata": {
      "needs_background": "light"
     }
    },
    {
     "output_type": "stream",
     "name": "stdout",
     "text": [
      "Running epoch: 2\n"
     ]
    },
    {
     "output_type": "display_data",
     "data": {
      "text/html": [
       " Batch loss :0.6957648992538452\n",
       "        <progress\n",
       "            value='4399'\n",
       "            max='4401',\n",
       "            style='width: 100%'\n",
       "        >\n",
       "            4399\n",
       "        </progress>\n",
       "    "
      ],
      "text/plain": [
       "<IPython.core.display.HTML object>"
      ]
     },
     "metadata": {}
    },
    {
     "output_type": "stream",
     "name": "stdout",
     "text": [
      "Epoch: 2 , Running loss: 0.42914641094478695\n"
     ]
    },
    {
     "output_type": "display_data",
     "data": {
      "image/png": "[encoded data removed]",
      "text/plain": [
       "<Figure size 432x288 with 1 Axes>"
      ]
     },
     "metadata": {
      "needs_background": "light"
     }
    },
    {
     "output_type": "stream",
     "name": "stdout",
     "text": [
      "Running epoch: 3\n"
     ]
    },
    {
     "output_type": "display_data",
     "data": {
      "text/html": [
       " Batch loss :0.6348301768302917\n",
       "        <progress\n",
       "            value='4399'\n",
       "            max='4401',\n",
       "            style='width: 100%'\n",
       "        >\n",
       "            4399\n",
       "        </progress>\n",
       "    "
      ],
      "text/plain": [
       "<IPython.core.display.HTML object>"
      ]
     },
     "metadata": {}
    },
    {
     "output_type": "stream",
     "name": "stdout",
     "text": [
      "Epoch: 3 , Running loss: 0.38449420661242173\n"
     ]
    },
    {
     "output_type": "display_data",
     "data": {
      "image/png": "[encoded data removed]",
      "text/plain": [
       "<Figure size 432x288 with 1 Axes>"
      ]
     },
     "metadata": {
      "needs_background": "light"
     }
    },
    {
     "output_type": "stream",
     "name": "stdout",
     "text": [
      "Running epoch: 4\n"
     ]
    },
    {
     "output_type": "display_data",
     "data": {
      "text/html": [
       " Batch loss :0.6278195977210999\n",
       "        <progress\n",
       "            value='4399'\n",
       "            max='4401',\n",
       "            style='width: 100%'\n",
       "        >\n",
       "            4399\n",
       "        </progress>\n",
       "    "
      ],
      "text/plain": [
       "<IPython.core.display.HTML object>"
      ]
     },
     "metadata": {}
    },
    {
     "output_type": "stream",
     "name": "stdout",
     "text": [
      "Epoch: 4 , Running loss: 0.3559549996510825\n"
     ]
    },
    {
     "output_type": "display_data",
     "data": {
      "image/png": "[encoded data removed]",
      "text/plain": [
       "<Figure size 432x288 with 1 Axes>"
      ]
     },
     "metadata": {
      "needs_background": "light"
     }
    },
    {
     "output_type": "stream",
     "name": "stdout",
     "text": [
      "Running epoch: 5\n"
     ]
    },
    {
     "output_type": "display_data",
     "data": {
      "text/html": [
       " Batch loss :0.541164755821228\n",
       "        <progress\n",
       "            value='4399'\n",
       "            max='4401',\n",
       "            style='width: 100%'\n",
       "        >\n",
       "            4399\n",
       "        </progress>\n",
       "    "
      ],
      "text/plain": [
       "<IPython.core.display.HTML object>"
      ]
     },
     "metadata": {}
    },
    {
     "output_type": "stream",
     "name": "stdout",
     "text": [
      "Epoch: 5 , Running loss: 0.3340653362667019\n"
     ]
    },
    {
     "output_type": "display_data",
     "data": {
      "image/png": "[encoded data removed]",
      "text/plain": [
       "<Figure size 432x288 with 1 Axes>"
      ]
     },
     "metadata": {
      "needs_background": "light"
     }
    },
    {
     "output_type": "stream",
     "name": "stdout",
     "text": [
      "Running epoch: 6\n"
     ]
    },
    {
     "output_type": "display_data",
     "data": {
      "text/html": [
       " Batch loss :0.5327091217041016\n",
       "        <progress\n",
       "            value='4399'\n",
       "            max='4401',\n",
       "            style='width: 100%'\n",
       "        >\n",
       "            4399\n",
       "        </progress>\n",
       "    "
      ],
      "text/plain": [
       "<IPython.core.display.HTML object>"
      ]
     },
     "metadata": {}
    },
    {
     "output_type": "stream",
     "name": "stdout",
     "text": [
      "Epoch: 6 , Running loss: 0.31696110804141925\n"
     ]
    },
    {
     "output_type": "display_data",
     "data": {
      "image/png": "[encoded data removed]",
      "text/plain": [
       "<Figure size 432x288 with 1 Axes>"
      ]
     },
     "metadata": {
      "needs_background": "light"
     }
    },
    {
     "output_type": "stream",
     "name": "stdout",
     "text": [
      "Running epoch: 7\n"
     ]
    },
    {
     "output_type": "display_data",
     "data": {
      "text/html": [
       " Batch loss :0.5296244025230408\n",
       "        <progress\n",
       "            value='4399'\n",
       "            max='4401',\n",
       "            style='width: 100%'\n",
       "        >\n",
       "            4399\n",
       "        </progress>\n",
       "    "
      ],
      "text/plain": [
       "<IPython.core.display.HTML object>"
      ]
     },
     "metadata": {}
    },
    {
     "output_type": "stream",
     "name": "stdout",
     "text": [
      "Epoch: 7 , Running loss: 0.30263587714088236\n"
     ]
    },
    {
     "output_type": "display_data",
     "data": {
      "image/png": "[encoded data removed]",
      "text/plain": [
       "<Figure size 432x288 with 1 Axes>"
      ]
     },
     "metadata": {
      "needs_background": "light"
     }
    },
    {
     "output_type": "stream",
     "name": "stdout",
     "text": [
      "Running epoch: 8\n"
     ]
    },
    {
     "output_type": "display_data",
     "data": {
      "text/html": [
       " Batch loss :0.4997118413448334\n",
       "        <progress\n",
       "            value='4399'\n",
       "            max='4401',\n",
       "            style='width: 100%'\n",
       "        >\n",
       "            4399\n",
       "        </progress>\n",
       "    "
      ],
      "text/plain": [
       "<IPython.core.display.HTML object>"
      ]
     },
     "metadata": {}
    },
    {
     "output_type": "stream",
     "name": "stdout",
     "text": [
      "Epoch: 8 , Running loss: 0.29031193989244375\n"
     ]
    },
    {
     "output_type": "display_data",
     "data": {
      "image/png": "[encoded data removed]",
      "text/plain": [
       "<Figure size 432x288 with 1 Axes>"
      ]
     },
     "metadata": {
      "needs_background": "light"
     }
    },
    {
     "output_type": "stream",
     "name": "stdout",
     "text": [
      "Running epoch: 9\n"
     ]
    },
    {
     "output_type": "display_data",
     "data": {
      "text/html": [
       " Batch loss :0.539222776889801\n",
       "        <progress\n",
       "            value='4399'\n",
       "            max='4401',\n",
       "            style='width: 100%'\n",
       "        >\n",
       "            4399\n",
       "        </progress>\n",
       "    "
      ],
      "text/plain": [
       "<IPython.core.display.HTML object>"
      ]
     },
     "metadata": {}
    },
    {
     "output_type": "stream",
     "name": "stdout",
     "text": [
      "Epoch: 9 , Running loss: 0.27941366230560977\n"
     ]
    },
    {
     "output_type": "display_data",
     "data": {
      "image/png": "[encoded data removed]",
      "text/plain": [
       "<Figure size 432x288 with 1 Axes>"
      ]
     },
     "metadata": {
      "needs_background": "light"
     }
    },
    {
     "output_type": "stream",
     "name": "stdout",
     "text": [
      "Running epoch: 10\n"
     ]
    },
    {
     "output_type": "display_data",
     "data": {
      "text/html": [
       " Batch loss :0.487973690032959\n",
       "        <progress\n",
       "            value='4399'\n",
       "            max='4401',\n",
       "            style='width: 100%'\n",
       "        >\n",
       "            4399\n",
       "        </progress>\n",
       "    "
      ],
      "text/plain": [
       "<IPython.core.display.HTML object>"
      ]
     },
     "metadata": {}
    },
    {
     "output_type": "stream",
     "name": "stdout",
     "text": [
      "Epoch: 10 , Running loss: 0.2691831519048322\n"
     ]
    },
    {
     "output_type": "display_data",
     "data": {
      "image/png": "[encoded data removed]",
      "text/plain": [
       "<Figure size 432x288 with 1 Axes>"
      ]
     },
     "metadata": {
      "needs_background": "light"
     }
    }
   ]
  },
  {
   "cell_type": "code",
   "source": [
    "# Train T5 small on AMR\n",
    "\"\"\"model_t5_small_amr = trainer(model=model_t5_small_amr, \n",
    "                         num_batches=number_of_batches_train_amr, \n",
    "                         inputs=inputs_train_amr, \n",
    "                         labels=labels_train_amr,\n",
    "                         optimizer=optimizer_t5_small_amr,\n",
    "                         challenge_name='AMR',\n",
    "                         model_name='small')\"\"\""
   ],
   "metadata": {
    "id": "Cy2BbV_2WxA9"
   },
   "execution_count": null,
   "outputs": []
  },
  {
   "cell_type": "code",
   "source": [
    "# Train T5 small on E2E\n",
    "\"\"\"model_t5_small_e2e = trainer(model=model_t5_small_e2e, \n",
    "                         num_batches=number_of_batches_train_e2e, \n",
    "                         inputs=inputs_train_e2e, \n",
    "                         labels=labels_train_e2e,\n",
    "                         optimizer=optimizer_t5_small_e2e,\n",
    "                         challenge_name='E2E',\n",
    "                         model_name='small')\"\"\""
   ],
   "metadata": {
    "id": "Yrsh7Tw0WvTi"
   },
   "execution_count": null,
   "outputs": []
  },
  {
   "cell_type": "markdown",
   "source": [
    "## Evaluate a Model"
   ],
   "metadata": {
    "id": "1lcpAnNzxIKC"
   }
  },
  {
   "cell_type": "code",
   "source": [
    "def evaluation(model, inputs_test, labels_test, tokenizer, metric_name):\n",
    "  # load the metric (if it is included in datasets from huggingface), set the model to eval mode\n",
    "  # and then generate outputs for the test set to compare them to the list of possible references\n",
    "  metric = load_metric(metric_name)\n",
    "  model_predictions = []\n",
    "  model.eval()\n",
    "  with torch.no_grad():\n",
    "    for i in range(len(inputs_test)):\n",
    "      output = tokenizer.batch_decode(model.generate(inputs_test[i]))\n",
    "      model_predictions.append([x.replace('<pad>','').replace('</s>','') for x in output])\n",
    "\n",
    "    # flatten the predictions list which has the length of batch_size * number_of_batches\n",
    "    model_predictions = list(chain(*model_predictions))  \n",
    "\n",
    "    print(model_predictions[:20])\n",
    "    #print([[x] for x in labels_test][0])\n",
    "    print(labels_test[:20])\n",
    "\n",
    "    bleu_score = metric.compute(predictions=model_predictions, references=labels_test)\n",
    "\n",
    "    print(list(bleu_score.keys()))\n",
    "    print(round(bleu_score[\"score\"], 1))\n",
    "\n",
    "  model.train()\n",
    "\n",
    "  return bleu_score\n",
    "  "
   ],
   "metadata": {
    "id": "vuhQ0CifxHVR"
   },
   "execution_count": null,
   "outputs": []
  },
  {
   "cell_type": "code",
   "source": [
    "evaluation(model=model_t5_small_web_nlg, \n",
    "            inputs_test=inputs_test_web_nlg,\n",
    "            labels_test=test_data_web_nlg['references_list'],\n",
    "            tokenizer=tokenizer_t5_small,\n",
    "            metric_name='sacrebleu')"
   ],
   "metadata": {
    "id": "RN4E--4OWev5"
   },
   "execution_count": 44,
   "outputs": []
  },
  {
   "cell_type": "code",
   "source": [
    "evaluation(model=model_t5_small_e2e, \n",
    "           inputs_test=inputs_test_e2e,\n",
    "           labels_test=test_data_e2e['references_list'],\n",
    "           tokenizer=tokenizer_t5_small,\n",
    "           metric_name='sacrebleu')"
   ],
   "metadata": {
    "id": "IoXCoWJ_fTzg"
   },
   "execution_count": null,
   "outputs": []
  },
  {
   "cell_type": "code",
   "source": [
    "\"\"\"evaluation(model=model_t5_small_amr, \n",
    "           inputs_test=inputs_test_amr, \n",
    "           labels_test=[[x] for x in test_data_amr['target_text']], \n",
    "           tokenizer=tokenizer,\n",
    "           metric_name='sacrebleu')\"\"\""
   ],
   "metadata": {
    "id": "3cvJr7F5WmED"
   },
   "execution_count": null,
   "outputs": []
  },
  {
   "cell_type": "markdown",
   "source": [
    "## Save the Model"
   ],
   "metadata": {
    "id": "oIFaZMLtsiU6"
   }
  },
  {
   "cell_type": "code",
   "source": [
    "torch.save(model_t5_small_web_nlg.state_dict(),f'drive/MyDrive/MIwDL/models/25_epochs_t5_small/t5_small_web_nlg_{epochs}_epochs_batch_size_{batch_size_web_nlg}_optimized_inputs.bin')"
   ],
   "metadata": {
    "id": "710KzDLLsqxW"
   },
   "execution_count": null,
   "outputs": []
  },
  {
   "cell_type": "code",
   "source": [
    "torch.save(model_t5_small_e2e.state_dict(),f'drive/MyDrive/MIwDL/models/25_epochs_t5_small/t5_small_e2e_{epochs}_epochs_batch_size_{batch_size_e2e}.bin')"
   ],
   "metadata": {
    "id": "URldTyRmuCYk"
   },
   "execution_count": null,
   "outputs": []
  },
  {
   "cell_type": "markdown",
   "source": [
    "## Load a model"
   ],
   "metadata": {
    "id": "7JhDhOJ2r5gX"
   }
  },
  {
   "cell_type": "code",
   "source": [
    "!wget https://s3.amazonaws.com/models.huggingface.co/bert/t5-small-config.json\n",
    "#!wget https://s3.amazonaws.com/models.huggingface.co/bert/t5-base-config.json\n",
    "#!wget https://s3.amazonaws.com/models.huggingface.co/bert/t5-large-config.json\n",
    "\n",
    "model_t5_small_e2e = T5ForConditionalGeneration.from_pretrained('drive/MyDrive/MIwDL/models/25_epochs_t5_small/t5_small_web_nlg_25_epochs_batch_size_8.bin', \n",
    "                                                                    return_dict=True,\n",
    "                                                                    config='t5-small-config.json')\n",
    "\n",
    "if torch.cuda.is_available():\n",
    "    dev = torch.device(\"cuda:0\")\n",
    "    print(\"Running on the GPU\")\n",
    "else:\n",
    "    dev = torch.device(\"cpu\")\n",
    "    print(\"Running on the CPU\")\n",
    "\n",
    "model_t5_small_e2e.to(dev)\n",
    "\n",
    "tokenizer_t5_small = T5Tokenizer.from_pretrained('t5-small')\n"
   ],
   "metadata": {
    "id": "jbYi2PuIr5De",
    "colab": {
     "base_uri": "https://localhost:8080/"
    },
    "outputId": "472517b3-86a7-4716-81e0-ae103deeda39"
   },
   "execution_count": 48,
   "outputs": [
    {
     "output_type": "stream",
     "name": "stdout",
     "text": [
      "--2022-01-08 19:00:24--  https://s3.amazonaws.com/models.huggingface.co/bert/t5-small-config.json\n",
      "Resolving s3.amazonaws.com (s3.amazonaws.com)... 52.217.94.222\n",
      "Connecting to s3.amazonaws.com (s3.amazonaws.com)|52.217.94.222|:443... connected.\n",
      "HTTP request sent, awaiting response... 200 OK\n",
      "Length: 1197 (1.2K) [application/json]\n",
      "Saving to: ‘t5-small-config.json.3’\n",
      "\n",
      "\rt5-small-config.jso   0%[                    ]       0  --.-KB/s               \rt5-small-config.jso 100%[===================>]   1.17K  --.-KB/s    in 0s      \n",
      "\n",
      "2022-01-08 19:00:24 (11.8 MB/s) - ‘t5-small-config.json.3’ saved [1197/1197]\n",
      "\n",
      "Running on the GPU\n"
     ]
    }
   ]
  }
 ],
 "metadata": {
  "kernelspec": {
   "display_name": "Python 3",
   "language": "python",
   "name": "python3"
  },
  "language_info": {
   "codemirror_mode": {
    "name": "ipython",
    "version": 2
   },
   "file_extension": ".py",
   "mimetype": "text/x-python",
   "name": "python",
   "nbconvert_exporter": "python",
   "pygments_lexer": "ipython2",
   "version": "2.7.6"
  },
  "colab": {
   "name": "fine_tuning_t5.ipynb",
   "provenance": [],
   "collapsed_sections": [
    "j4u8a5oqh0qY"
   ],
   "machine_shape": "hm"
  },
  "accelerator": "GPU"
 },
 "nbformat": 4,
 "nbformat_minor": 0
}