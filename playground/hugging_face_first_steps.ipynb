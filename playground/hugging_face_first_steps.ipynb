{
 "cells": [
  {
   "cell_type": "code",
   "execution_count": 11,
   "metadata": {
    "collapsed": true
   },
   "outputs": [],
   "source": [
    "from transformers import pipeline, T5Tokenizer, T5ForConditionalGeneration\n",
    "\n",
    "# Allocate a pipeline for sentiment-analysis\n",
    "#classifier = pipeline('sentiment-analysis')\n",
    "#classifier('We are very happy to introduce pipeline to the transformers repository.')\n",
    "\n",
    "tokenizer = T5Tokenizer.from_pretrained(\"t5-small\")\n",
    "model = T5ForConditionalGeneration.from_pretrained(\"t5-small\")\n",
    "\n",
    "input_ids = tokenizer('translate English to Japanese: The table is wonderful.', return_tensors='pt').input_ids\n",
    "#labels = tokenizer('Das Haus ist wunderbar.', return_tensors='pt').input_ids\n",
    "# the forward function automatically creates the correct decoder_input_ids\n",
    "#loss = model(input_ids=input_ids, labels=labels).loss\n"
   ]
  },
  {
   "cell_type": "code",
   "execution_count": 12,
   "outputs": [
    {
     "name": "stdout",
     "output_type": "stream",
     "text": [
      "Die Tische sind wunderbar.\n"
     ]
    }
   ],
   "source": [
    "outputs = model.generate(input_ids)\n",
    "print(tokenizer.decode(outputs[0], skip_special_tokens=True))"
   ],
   "metadata": {
    "collapsed": false,
    "pycharm": {
     "name": "#%%\n"
    }
   }
  }
 ],
 "metadata": {
  "kernelspec": {
   "display_name": "Python 3",
   "language": "python",
   "name": "python3"
  },
  "language_info": {
   "codemirror_mode": {
    "name": "ipython",
    "version": 2
   },
   "file_extension": ".py",
   "mimetype": "text/x-python",
   "name": "python",
   "nbconvert_exporter": "python",
   "pygments_lexer": "ipython2",
   "version": "2.7.6"
  }
 },
 "nbformat": 4,
 "nbformat_minor": 0
}