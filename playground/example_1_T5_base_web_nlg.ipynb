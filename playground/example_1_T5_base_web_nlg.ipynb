{
 "cells": [
  {
   "cell_type": "code",
   "execution_count": 3,
   "metadata": {
    "collapsed": true
   },
   "outputs": [],
   "source": [
    "from transformers import pipeline, T5Tokenizer, T5ForConditionalGeneration\n",
    "from datasets import load_dataset\n",
    "\n",
    "tokenizer = T5Tokenizer.from_pretrained(\"t5-base\")\n",
    "model = T5ForConditionalGeneration.from_pretrained(\"t5-base\")"
   ]
  },
  {
   "cell_type": "code",
   "execution_count": 42,
   "outputs": [
    {
     "name": "stderr",
     "output_type": "stream",
     "text": [
      "Reusing dataset web_nlg (/Users/furkansimsek/.cache/huggingface/datasets/web_nlg/webnlg_challenge_2017/0.0.0/28ffb892f7f42450dd9558684aa43bcaf44b1b3bf0d77cb8d73534646af88dda)\n"
     ]
    },
    {
     "data": {
      "text/plain": "  0%|          | 0/3 [00:00<?, ?it/s]",
      "application/vnd.jupyter.widget-view+json": {
       "version_major": 2,
       "version_minor": 0,
       "model_id": "ba59c57803aa45d3b9f27031e0dcfcb2"
      }
     },
     "metadata": {},
     "output_type": "display_data"
    },
    {
     "name": "stdout",
     "output_type": "stream",
     "text": [
      " <extra_id_0> G: Russia | leader | Putin | leader | Putin | leader | Putin | leader |\n"
     ]
    }
   ],
   "source": [
    "dataset = load_dataset('web_nlg', 'webnlg_challenge_2017')\n",
    "\n",
    "o_triple_set = dataset['test']['original_triple_sets'][0]\n",
    "\n",
    "for text in o_triple_set['otriple_set']:\n",
    "    print(text[0])\n",
    "    model.eval()\n",
    "    input_ids = tokenizer.encode(\"WebNLG:{} </s>\".format(text[0]), return_tensors=\"pt\")  # Batch size 1\n",
    "    print(input_ids)\n",
    "    outputs = model.generate(input_ids)\n",
    "\n",
    "    gen_text=tokenizer.decode(outputs[0]).replace('<pad>','').replace('</s>','')\n",
    "\n",
    "    print(gen_text)\n",
    "\n",
    "\n",
    "\n"
   ],
   "metadata": {
    "collapsed": false,
    "pycharm": {
     "name": "#%%\n"
    }
   }
  }
 ],
 "metadata": {
  "kernelspec": {
   "display_name": "Python 3",
   "language": "python",
   "name": "python3"
  },
  "language_info": {
   "codemirror_mode": {
    "name": "ipython",
    "version": 2
   },
   "file_extension": ".py",
   "mimetype": "text/x-python",
   "name": "python",
   "nbconvert_exporter": "python",
   "pygments_lexer": "ipython2",
   "version": "2.7.6"
  }
 },
 "nbformat": 4,
 "nbformat_minor": 0
}